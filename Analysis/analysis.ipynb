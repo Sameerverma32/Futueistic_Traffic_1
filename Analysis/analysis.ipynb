{
 "cells": [
  {
   "cell_type": "code",
   "execution_count": 67,
   "id": "8a9329e3",
   "metadata": {},
   "outputs": [],
   "source": [
    "import pandas as pd\n",
    "import numpy as np\n",
    "import plotly.express as px\n",
    "import plotly.graph_objects as go\n",
    "from sklearn.model_selection import train_test_split, cross_val_score\n",
    "from sklearn.metrics import mean_squared_error, mean_absolute_error, r2_score\n",
    "from sklearn.linear_model import LinearRegression\n",
    "from sklearn.preprocessing import LabelEncoder, StandardScaler\n",
    "import joblib"
   ]
  },
  {
   "cell_type": "code",
   "execution_count": 68,
   "id": "3611b636",
   "metadata": {},
   "outputs": [
    {
     "data": {
      "text/html": [
       "<div>\n",
       "<style scoped>\n",
       "    .dataframe tbody tr th:only-of-type {\n",
       "        vertical-align: middle;\n",
       "    }\n",
       "\n",
       "    .dataframe tbody tr th {\n",
       "        vertical-align: top;\n",
       "    }\n",
       "\n",
       "    .dataframe thead th {\n",
       "        text-align: right;\n",
       "    }\n",
       "</style>\n",
       "<table border=\"1\" class=\"dataframe\">\n",
       "  <thead>\n",
       "    <tr style=\"text-align: right;\">\n",
       "      <th></th>\n",
       "      <th>City</th>\n",
       "      <th>Vehicle Type</th>\n",
       "      <th>Weather</th>\n",
       "      <th>Economic Condition</th>\n",
       "      <th>Day Of Week</th>\n",
       "      <th>Hour Of Day</th>\n",
       "      <th>Speed</th>\n",
       "      <th>Is Peak Hour</th>\n",
       "      <th>Random Event Occurred</th>\n",
       "      <th>Energy Consumption</th>\n",
       "      <th>Traffic Density</th>\n",
       "    </tr>\n",
       "  </thead>\n",
       "  <tbody>\n",
       "    <tr>\n",
       "      <th>0</th>\n",
       "      <td>SolarisVille</td>\n",
       "      <td>Drone</td>\n",
       "      <td>Snowy</td>\n",
       "      <td>Stable</td>\n",
       "      <td>Sunday</td>\n",
       "      <td>20</td>\n",
       "      <td>29.4268</td>\n",
       "      <td>0</td>\n",
       "      <td>0</td>\n",
       "      <td>14.7134</td>\n",
       "      <td>0.5241</td>\n",
       "    </tr>\n",
       "    <tr>\n",
       "      <th>1</th>\n",
       "      <td>AquaCity</td>\n",
       "      <td>Flying Car</td>\n",
       "      <td>Solar Flare</td>\n",
       "      <td>Recession</td>\n",
       "      <td>Wednesday</td>\n",
       "      <td>2</td>\n",
       "      <td>118.8000</td>\n",
       "      <td>0</td>\n",
       "      <td>0</td>\n",
       "      <td>143.5682</td>\n",
       "      <td>0.3208</td>\n",
       "    </tr>\n",
       "    <tr>\n",
       "      <th>2</th>\n",
       "      <td>Neuroburg</td>\n",
       "      <td>Autonomous Vehicle</td>\n",
       "      <td>Solar Flare</td>\n",
       "      <td>Recession</td>\n",
       "      <td>Wednesday</td>\n",
       "      <td>16</td>\n",
       "      <td>100.3904</td>\n",
       "      <td>0</td>\n",
       "      <td>0</td>\n",
       "      <td>91.2640</td>\n",
       "      <td>0.0415</td>\n",
       "    </tr>\n",
       "    <tr>\n",
       "      <th>3</th>\n",
       "      <td>Ecoopolis</td>\n",
       "      <td>Drone</td>\n",
       "      <td>Clear</td>\n",
       "      <td>Booming</td>\n",
       "      <td>Thursday</td>\n",
       "      <td>8</td>\n",
       "      <td>76.8000</td>\n",
       "      <td>1</td>\n",
       "      <td>0</td>\n",
       "      <td>46.0753</td>\n",
       "      <td>0.1811</td>\n",
       "    </tr>\n",
       "    <tr>\n",
       "      <th>4</th>\n",
       "      <td>AquaCity</td>\n",
       "      <td>Autonomous Vehicle</td>\n",
       "      <td>Solar Flare</td>\n",
       "      <td>Stable</td>\n",
       "      <td>Saturday</td>\n",
       "      <td>16</td>\n",
       "      <td>45.2176</td>\n",
       "      <td>0</td>\n",
       "      <td>0</td>\n",
       "      <td>40.1934</td>\n",
       "      <td>0.4544</td>\n",
       "    </tr>\n",
       "  </tbody>\n",
       "</table>\n",
       "</div>"
      ],
      "text/plain": [
       "           City        Vehicle Type      Weather Economic Condition  \\\n",
       "0  SolarisVille               Drone        Snowy             Stable   \n",
       "1      AquaCity          Flying Car  Solar Flare          Recession   \n",
       "2     Neuroburg  Autonomous Vehicle  Solar Flare          Recession   \n",
       "3     Ecoopolis               Drone        Clear            Booming   \n",
       "4      AquaCity  Autonomous Vehicle  Solar Flare             Stable   \n",
       "\n",
       "  Day Of Week  Hour Of Day     Speed  Is Peak Hour  Random Event Occurred  \\\n",
       "0      Sunday           20   29.4268             0                      0   \n",
       "1   Wednesday            2  118.8000             0                      0   \n",
       "2   Wednesday           16  100.3904             0                      0   \n",
       "3    Thursday            8   76.8000             1                      0   \n",
       "4    Saturday           16   45.2176             0                      0   \n",
       "\n",
       "   Energy Consumption  Traffic Density  \n",
       "0             14.7134           0.5241  \n",
       "1            143.5682           0.3208  \n",
       "2             91.2640           0.0415  \n",
       "3             46.0753           0.1811  \n",
       "4             40.1934           0.4544  "
      ]
     },
     "execution_count": 68,
     "metadata": {},
     "output_type": "execute_result"
    }
   ],
   "source": [
    "sf = pd.read_csv(\"futuristic_city_traffic.csv\")\n",
    "sf.head()"
   ]
  },
  {
   "cell_type": "code",
   "execution_count": 69,
   "id": "2a6ea26a",
   "metadata": {},
   "outputs": [
    {
     "data": {
      "text/plain": [
       "(1219567, 11)"
      ]
     },
     "execution_count": 69,
     "metadata": {},
     "output_type": "execute_result"
    }
   ],
   "source": [
    "sf.shape"
   ]
  },
  {
   "cell_type": "code",
   "execution_count": 70,
   "id": "f358dbb6",
   "metadata": {},
   "outputs": [],
   "source": [
    "df = sf.sample(12000, random_state=42)"
   ]
  },
  {
   "cell_type": "code",
   "execution_count": 71,
   "id": "9191a324",
   "metadata": {},
   "outputs": [
    {
     "name": "stdout",
     "output_type": "stream",
     "text": [
      "(12000, 11)\n"
     ]
    }
   ],
   "source": [
    "print(df.shape)"
   ]
  },
  {
   "cell_type": "code",
   "execution_count": 72,
   "id": "4db26325",
   "metadata": {},
   "outputs": [],
   "source": [
    "df.to_csv(\"futuristic_city_traffic_sampled.csv\", index=False)"
   ]
  },
  {
   "cell_type": "code",
   "execution_count": 73,
   "id": "23a67814",
   "metadata": {},
   "outputs": [
    {
     "data": {
      "text/html": [
       "<div>\n",
       "<style scoped>\n",
       "    .dataframe tbody tr th:only-of-type {\n",
       "        vertical-align: middle;\n",
       "    }\n",
       "\n",
       "    .dataframe tbody tr th {\n",
       "        vertical-align: top;\n",
       "    }\n",
       "\n",
       "    .dataframe thead th {\n",
       "        text-align: right;\n",
       "    }\n",
       "</style>\n",
       "<table border=\"1\" class=\"dataframe\">\n",
       "  <thead>\n",
       "    <tr style=\"text-align: right;\">\n",
       "      <th></th>\n",
       "      <th>City</th>\n",
       "      <th>Vehicle Type</th>\n",
       "      <th>Weather</th>\n",
       "      <th>Economic Condition</th>\n",
       "      <th>Day Of Week</th>\n",
       "      <th>Hour Of Day</th>\n",
       "      <th>Speed</th>\n",
       "      <th>Is Peak Hour</th>\n",
       "      <th>Random Event Occurred</th>\n",
       "      <th>Energy Consumption</th>\n",
       "      <th>Traffic Density</th>\n",
       "    </tr>\n",
       "  </thead>\n",
       "  <tbody>\n",
       "    <tr>\n",
       "      <th>847212</th>\n",
       "      <td>Ecoopolis</td>\n",
       "      <td>Drone</td>\n",
       "      <td>Clear</td>\n",
       "      <td>Booming</td>\n",
       "      <td>Thursday</td>\n",
       "      <td>23</td>\n",
       "      <td>45.8742</td>\n",
       "      <td>0</td>\n",
       "      <td>0</td>\n",
       "      <td>22.9371</td>\n",
       "      <td>0.1965</td>\n",
       "    </tr>\n",
       "    <tr>\n",
       "      <th>760122</th>\n",
       "      <td>TechHaven</td>\n",
       "      <td>Autonomous Vehicle</td>\n",
       "      <td>Solar Flare</td>\n",
       "      <td>Stable</td>\n",
       "      <td>Monday</td>\n",
       "      <td>8</td>\n",
       "      <td>43.4756</td>\n",
       "      <td>1</td>\n",
       "      <td>0</td>\n",
       "      <td>43.9147</td>\n",
       "      <td>0.2234</td>\n",
       "    </tr>\n",
       "    <tr>\n",
       "      <th>678988</th>\n",
       "      <td>MetropolisX</td>\n",
       "      <td>Autonomous Vehicle</td>\n",
       "      <td>Clear</td>\n",
       "      <td>Stable</td>\n",
       "      <td>Monday</td>\n",
       "      <td>14</td>\n",
       "      <td>66.3621</td>\n",
       "      <td>0</td>\n",
       "      <td>0</td>\n",
       "      <td>60.3292</td>\n",
       "      <td>0.3949</td>\n",
       "    </tr>\n",
       "    <tr>\n",
       "      <th>544510</th>\n",
       "      <td>MetropolisX</td>\n",
       "      <td>Autonomous Vehicle</td>\n",
       "      <td>Rainy</td>\n",
       "      <td>Stable</td>\n",
       "      <td>Thursday</td>\n",
       "      <td>15</td>\n",
       "      <td>46.4420</td>\n",
       "      <td>0</td>\n",
       "      <td>0</td>\n",
       "      <td>44.4421</td>\n",
       "      <td>0.4116</td>\n",
       "    </tr>\n",
       "    <tr>\n",
       "      <th>203363</th>\n",
       "      <td>MetropolisX</td>\n",
       "      <td>Autonomous Vehicle</td>\n",
       "      <td>Snowy</td>\n",
       "      <td>Recession</td>\n",
       "      <td>Thursday</td>\n",
       "      <td>5</td>\n",
       "      <td>42.2895</td>\n",
       "      <td>0</td>\n",
       "      <td>0</td>\n",
       "      <td>40.4684</td>\n",
       "      <td>0.0897</td>\n",
       "    </tr>\n",
       "    <tr>\n",
       "      <th>...</th>\n",
       "      <td>...</td>\n",
       "      <td>...</td>\n",
       "      <td>...</td>\n",
       "      <td>...</td>\n",
       "      <td>...</td>\n",
       "      <td>...</td>\n",
       "      <td>...</td>\n",
       "      <td>...</td>\n",
       "      <td>...</td>\n",
       "      <td>...</td>\n",
       "      <td>...</td>\n",
       "    </tr>\n",
       "    <tr>\n",
       "      <th>587356</th>\n",
       "      <td>MetropolisX</td>\n",
       "      <td>Autonomous Vehicle</td>\n",
       "      <td>Rainy</td>\n",
       "      <td>Recession</td>\n",
       "      <td>Tuesday</td>\n",
       "      <td>11</td>\n",
       "      <td>69.6072</td>\n",
       "      <td>0</td>\n",
       "      <td>0</td>\n",
       "      <td>66.6097</td>\n",
       "      <td>0.3314</td>\n",
       "    </tr>\n",
       "    <tr>\n",
       "      <th>611679</th>\n",
       "      <td>Ecoopolis</td>\n",
       "      <td>Autonomous Vehicle</td>\n",
       "      <td>Solar Flare</td>\n",
       "      <td>Recession</td>\n",
       "      <td>Monday</td>\n",
       "      <td>20</td>\n",
       "      <td>19.0563</td>\n",
       "      <td>0</td>\n",
       "      <td>0</td>\n",
       "      <td>16.9389</td>\n",
       "      <td>0.0811</td>\n",
       "    </tr>\n",
       "    <tr>\n",
       "      <th>647609</th>\n",
       "      <td>MetropolisX</td>\n",
       "      <td>Autonomous Vehicle</td>\n",
       "      <td>Snowy</td>\n",
       "      <td>Booming</td>\n",
       "      <td>Wednesday</td>\n",
       "      <td>20</td>\n",
       "      <td>25.2339</td>\n",
       "      <td>0</td>\n",
       "      <td>0</td>\n",
       "      <td>24.3912</td>\n",
       "      <td>0.6408</td>\n",
       "    </tr>\n",
       "    <tr>\n",
       "      <th>882671</th>\n",
       "      <td>MetropolisX</td>\n",
       "      <td>Autonomous Vehicle</td>\n",
       "      <td>Snowy</td>\n",
       "      <td>Recession</td>\n",
       "      <td>Thursday</td>\n",
       "      <td>12</td>\n",
       "      <td>93.4139</td>\n",
       "      <td>0</td>\n",
       "      <td>0</td>\n",
       "      <td>89.3913</td>\n",
       "      <td>0.1717</td>\n",
       "    </tr>\n",
       "    <tr>\n",
       "      <th>104528</th>\n",
       "      <td>Ecoopolis</td>\n",
       "      <td>Car</td>\n",
       "      <td>Snowy</td>\n",
       "      <td>Recession</td>\n",
       "      <td>Wednesday</td>\n",
       "      <td>23</td>\n",
       "      <td>73.3337</td>\n",
       "      <td>0</td>\n",
       "      <td>0</td>\n",
       "      <td>73.3337</td>\n",
       "      <td>0.0664</td>\n",
       "    </tr>\n",
       "  </tbody>\n",
       "</table>\n",
       "<p>12000 rows × 11 columns</p>\n",
       "</div>"
      ],
      "text/plain": [
       "               City        Vehicle Type      Weather Economic Condition  \\\n",
       "847212    Ecoopolis               Drone        Clear            Booming   \n",
       "760122    TechHaven  Autonomous Vehicle  Solar Flare             Stable   \n",
       "678988  MetropolisX  Autonomous Vehicle        Clear             Stable   \n",
       "544510  MetropolisX  Autonomous Vehicle        Rainy             Stable   \n",
       "203363  MetropolisX  Autonomous Vehicle        Snowy          Recession   \n",
       "...             ...                 ...          ...                ...   \n",
       "587356  MetropolisX  Autonomous Vehicle        Rainy          Recession   \n",
       "611679    Ecoopolis  Autonomous Vehicle  Solar Flare          Recession   \n",
       "647609  MetropolisX  Autonomous Vehicle        Snowy            Booming   \n",
       "882671  MetropolisX  Autonomous Vehicle        Snowy          Recession   \n",
       "104528    Ecoopolis                 Car        Snowy          Recession   \n",
       "\n",
       "       Day Of Week  Hour Of Day    Speed  Is Peak Hour  Random Event Occurred  \\\n",
       "847212    Thursday           23  45.8742             0                      0   \n",
       "760122      Monday            8  43.4756             1                      0   \n",
       "678988      Monday           14  66.3621             0                      0   \n",
       "544510    Thursday           15  46.4420             0                      0   \n",
       "203363    Thursday            5  42.2895             0                      0   \n",
       "...            ...          ...      ...           ...                    ...   \n",
       "587356     Tuesday           11  69.6072             0                      0   \n",
       "611679      Monday           20  19.0563             0                      0   \n",
       "647609   Wednesday           20  25.2339             0                      0   \n",
       "882671    Thursday           12  93.4139             0                      0   \n",
       "104528   Wednesday           23  73.3337             0                      0   \n",
       "\n",
       "        Energy Consumption  Traffic Density  \n",
       "847212             22.9371           0.1965  \n",
       "760122             43.9147           0.2234  \n",
       "678988             60.3292           0.3949  \n",
       "544510             44.4421           0.4116  \n",
       "203363             40.4684           0.0897  \n",
       "...                    ...              ...  \n",
       "587356             66.6097           0.3314  \n",
       "611679             16.9389           0.0811  \n",
       "647609             24.3912           0.6408  \n",
       "882671             89.3913           0.1717  \n",
       "104528             73.3337           0.0664  \n",
       "\n",
       "[12000 rows x 11 columns]"
      ]
     },
     "execution_count": 73,
     "metadata": {},
     "output_type": "execute_result"
    }
   ],
   "source": [
    "df"
   ]
  },
  {
   "cell_type": "code",
   "execution_count": 74,
   "id": "e3b0b98c",
   "metadata": {},
   "outputs": [],
   "source": [
    "cat_cols = [\"City\",\"Vehicle Type\",\"Weather\",\"Economic Condition\",\n",
    "            \"Day Of Week\",\"Is Peak Hour\",\"Random Event Occurred\"]"
   ]
  },
  {
   "cell_type": "code",
   "execution_count": 75,
   "id": "249ac475",
   "metadata": {},
   "outputs": [],
   "source": [
    "X = df.drop(\"Energy Consumption\", axis=1)\n",
    "y = df[\"Energy Consumption\"]"
   ]
  },
  {
   "cell_type": "code",
   "execution_count": 76,
   "id": "79acaca9",
   "metadata": {},
   "outputs": [
    {
     "data": {
      "text/html": [
       "<div>\n",
       "<style scoped>\n",
       "    .dataframe tbody tr th:only-of-type {\n",
       "        vertical-align: middle;\n",
       "    }\n",
       "\n",
       "    .dataframe tbody tr th {\n",
       "        vertical-align: top;\n",
       "    }\n",
       "\n",
       "    .dataframe thead th {\n",
       "        text-align: right;\n",
       "    }\n",
       "</style>\n",
       "<table border=\"1\" class=\"dataframe\">\n",
       "  <thead>\n",
       "    <tr style=\"text-align: right;\">\n",
       "      <th></th>\n",
       "      <th>Hour Of Day</th>\n",
       "      <th>Speed</th>\n",
       "      <th>Is Peak Hour</th>\n",
       "      <th>Random Event Occurred</th>\n",
       "      <th>Energy Consumption</th>\n",
       "      <th>Traffic Density</th>\n",
       "    </tr>\n",
       "  </thead>\n",
       "  <tbody>\n",
       "    <tr>\n",
       "      <th>count</th>\n",
       "      <td>12000.000000</td>\n",
       "      <td>12000.000000</td>\n",
       "      <td>12000.000000</td>\n",
       "      <td>12000.000000</td>\n",
       "      <td>12000.000000</td>\n",
       "      <td>12000.000000</td>\n",
       "    </tr>\n",
       "    <tr>\n",
       "      <th>mean</th>\n",
       "      <td>11.548167</td>\n",
       "      <td>59.541135</td>\n",
       "      <td>0.148250</td>\n",
       "      <td>0.050583</td>\n",
       "      <td>49.150583</td>\n",
       "      <td>0.279987</td>\n",
       "    </tr>\n",
       "    <tr>\n",
       "      <th>std</th>\n",
       "      <td>6.966017</td>\n",
       "      <td>26.843880</td>\n",
       "      <td>0.355362</td>\n",
       "      <td>0.219154</td>\n",
       "      <td>25.375383</td>\n",
       "      <td>0.221637</td>\n",
       "    </tr>\n",
       "    <tr>\n",
       "      <th>min</th>\n",
       "      <td>0.000000</td>\n",
       "      <td>9.131400</td>\n",
       "      <td>0.000000</td>\n",
       "      <td>0.000000</td>\n",
       "      <td>6.702600</td>\n",
       "      <td>0.006700</td>\n",
       "    </tr>\n",
       "    <tr>\n",
       "      <th>25%</th>\n",
       "      <td>5.000000</td>\n",
       "      <td>36.941700</td>\n",
       "      <td>0.000000</td>\n",
       "      <td>0.000000</td>\n",
       "      <td>28.697550</td>\n",
       "      <td>0.104900</td>\n",
       "    </tr>\n",
       "    <tr>\n",
       "      <th>50%</th>\n",
       "      <td>12.000000</td>\n",
       "      <td>57.642350</td>\n",
       "      <td>0.000000</td>\n",
       "      <td>0.000000</td>\n",
       "      <td>45.366150</td>\n",
       "      <td>0.219650</td>\n",
       "    </tr>\n",
       "    <tr>\n",
       "      <th>75%</th>\n",
       "      <td>18.000000</td>\n",
       "      <td>80.133175</td>\n",
       "      <td>0.000000</td>\n",
       "      <td>0.000000</td>\n",
       "      <td>66.016700</td>\n",
       "      <td>0.399100</td>\n",
       "    </tr>\n",
       "    <tr>\n",
       "      <th>max</th>\n",
       "      <td>23.000000</td>\n",
       "      <td>148.262400</td>\n",
       "      <td>1.000000</td>\n",
       "      <td>1.000000</td>\n",
       "      <td>175.988000</td>\n",
       "      <td>1.855300</td>\n",
       "    </tr>\n",
       "  </tbody>\n",
       "</table>\n",
       "</div>"
      ],
      "text/plain": [
       "        Hour Of Day         Speed  Is Peak Hour  Random Event Occurred  \\\n",
       "count  12000.000000  12000.000000  12000.000000           12000.000000   \n",
       "mean      11.548167     59.541135      0.148250               0.050583   \n",
       "std        6.966017     26.843880      0.355362               0.219154   \n",
       "min        0.000000      9.131400      0.000000               0.000000   \n",
       "25%        5.000000     36.941700      0.000000               0.000000   \n",
       "50%       12.000000     57.642350      0.000000               0.000000   \n",
       "75%       18.000000     80.133175      0.000000               0.000000   \n",
       "max       23.000000    148.262400      1.000000               1.000000   \n",
       "\n",
       "       Energy Consumption  Traffic Density  \n",
       "count        12000.000000     12000.000000  \n",
       "mean            49.150583         0.279987  \n",
       "std             25.375383         0.221637  \n",
       "min              6.702600         0.006700  \n",
       "25%             28.697550         0.104900  \n",
       "50%             45.366150         0.219650  \n",
       "75%             66.016700         0.399100  \n",
       "max            175.988000         1.855300  "
      ]
     },
     "execution_count": 76,
     "metadata": {},
     "output_type": "execute_result"
    }
   ],
   "source": [
    "df.describe()"
   ]
  },
  {
   "cell_type": "code",
   "execution_count": 77,
   "id": "581d8ed9",
   "metadata": {},
   "outputs": [],
   "source": [
    "def preprocess_data(df, cat_cols):\n",
    "    \"\"\"Preprocess the data by encoding categorical variables and scaling features\"\"\"\n",
    "    # Create feature matrix\n",
    "    X = df.copy()\n",
    "    le = LabelEncoder()\n",
    "    \n",
    "    # Encode categorical columns\n",
    "    for col in cat_cols:\n",
    "        X[col] = le.fit_transform(X[col])\n",
    "    \n",
    "    # Select features and target\n",
    "    X = X.drop(\"Traffic Density\", axis=1)\n",
    "    y = df[\"Traffic Density\"]\n",
    "    \n",
    "    return X, y"
   ]
  },
  {
   "cell_type": "code",
   "execution_count": 78,
   "id": "2bb1a7a5",
   "metadata": {},
   "outputs": [],
   "source": [
    "def train_evaluate_model(X, y):\n",
    "    \"\"\"Train and evaluate the model\"\"\"\n",
    "    # Split data\n",
    "    X_train, X_test, y_train, y_test = train_test_split(X, y, test_size=0.2, random_state=42)\n",
    "    \n",
    "    # Scale features\n",
    "    scaler = StandardScaler()\n",
    "    X_train_scaled = scaler.fit_transform(X_train)\n",
    "    X_test_scaled = scaler.transform(X_test)\n",
    "    \n",
    "    # Train model\n",
    "    model = LinearRegression()\n",
    "    model.fit(X_train_scaled, y_train)\n",
    "    \n",
    "    # Make predictions\n",
    "    y_pred = model.predict(X_test_scaled)\n",
    "    \n",
    "    # Cross-validation score\n",
    "    cv_scores = cross_val_score(model, X_train_scaled, y_train, cv=5)\n",
    "    \n",
    "    return model, scaler, X_test_scaled, y_test, y_pred, cv_scores"
   ]
  },
  {
   "cell_type": "code",
   "execution_count": 79,
   "id": "ed1f801d",
   "metadata": {},
   "outputs": [],
   "source": [
    "def evaluate_model(model, X_test_scaled, y_test, y_pred, cv_scores):\n",
    "    \"\"\"Print model performance metrics and create visualization\"\"\"\n",
    "    print(\"Model Performance Metrics\")\n",
    "    print(\"-\" * 35)\n",
    "    print(f\"R² Score: {r2_score(y_test, y_pred):.4f}\")\n",
    "    print(f\"Mean Absolute Error: {mean_absolute_error(y_test, y_pred):.2f}\")\n",
    "    print(f\"Root Mean Squared Error: {mean_squared_error(y_test, y_pred):.2f}\")\n",
    "    print(f\"Cross-validation Score: {cv_scores.mean():.4f} (+/- {cv_scores.std() * 2:.4f})\")\n",
    "    print(f\"Model Accuracy: {model.score(X_test_scaled, y_test)*100:.2f}%\")\n",
    "    \n",
    "    # Visualization\n",
    "    fig = px.scatter(x=y_test, y=y_pred, \n",
    "                    labels={'x':'Actual Traffic Density', 'y':'Predicted Traffic Density'},\n",
    "                    title=\"Actual vs Predicted Traffic Density\")\n",
    "    fig.add_trace(go.Scatter(x=[y_test.min(), y_test.max()],\n",
    "                            y=[y_test.min(), y_test.max()],\n",
    "                            mode='lines', \n",
    "                            name='Perfect Prediction', \n",
    "                            line=dict(color='red', dash='dash')))\n",
    "    fig.show()"
   ]
  },
  {
   "cell_type": "code",
   "execution_count": null,
   "id": "a90fc140",
   "metadata": {},
   "outputs": [
    {
     "name": "stdout",
     "output_type": "stream",
     "text": [
      "Model Performance Metrics\n",
      "-----------------------------------\n",
      "R² Score: 0.1140\n",
      "Mean Absolute Error: 0.16\n",
      "Root Mean Squared Error: 0.04\n",
      "Cross-validation Score: 0.1273 (+/- 0.0274)\n",
      "Model Accuracy: 11.40%\n"
     ]
    },
    {
     "data": {
      "application/vnd.plotly.v1+json": {
       "config": {
        "plotlyServerURL": "https://plot.ly"
       },
       "data": [
        {
         "hovertemplate": "Actual Traffic Density=%{x}<br>Predicted Traffic Density=%{y}<extra></extra>",
         "legendgroup": "",
         "marker": {
          "color": "#636efa",
          "symbol": "circle"
         },
         "mode": "markers",
         "name": "",
         "showlegend": false,
         "type": "scattergl",
         "x": {
          "bdata": "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",
          "dtype": "f8"
         },
         "xaxis": "x",
         "y": {
          "bdata": "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",
          "dtype": "f8"
         },
         "yaxis": "y"
        },
        {
         "line": {
          "color": "red",
          "dash": "dash"
         },
         "mode": "lines",
         "name": "Perfect Prediction",
         "type": "scatter",
         "x": [
          0.0069,
          1.3673
         ],
         "y": [
          0.0069,
          1.3673
         ]
        }
       ],
       "layout": {
        "legend": {
         "tracegroupgap": 0
        },
        "template": {
         "data": {
          "bar": [
           {
            "error_x": {
             "color": "#2a3f5f"
            },
            "error_y": {
             "color": "#2a3f5f"
            },
            "marker": {
             "line": {
              "color": "#E5ECF6",
              "width": 0.5
             },
             "pattern": {
              "fillmode": "overlay",
              "size": 10,
              "solidity": 0.2
             }
            },
            "type": "bar"
           }
          ],
          "barpolar": [
           {
            "marker": {
             "line": {
              "color": "#E5ECF6",
              "width": 0.5
             },
             "pattern": {
              "fillmode": "overlay",
              "size": 10,
              "solidity": 0.2
             }
            },
            "type": "barpolar"
           }
          ],
          "carpet": [
           {
            "aaxis": {
             "endlinecolor": "#2a3f5f",
             "gridcolor": "white",
             "linecolor": "white",
             "minorgridcolor": "white",
             "startlinecolor": "#2a3f5f"
            },
            "baxis": {
             "endlinecolor": "#2a3f5f",
             "gridcolor": "white",
             "linecolor": "white",
             "minorgridcolor": "white",
             "startlinecolor": "#2a3f5f"
            },
            "type": "carpet"
           }
          ],
          "choropleth": [
           {
            "colorbar": {
             "outlinewidth": 0,
             "ticks": ""
            },
            "type": "choropleth"
           }
          ],
          "contour": [
           {
            "colorbar": {
             "outlinewidth": 0,
             "ticks": ""
            },
            "colorscale": [
             [
              0,
              "#0d0887"
             ],
             [
              0.1111111111111111,
              "#46039f"
             ],
             [
              0.2222222222222222,
              "#7201a8"
             ],
             [
              0.3333333333333333,
              "#9c179e"
             ],
             [
              0.4444444444444444,
              "#bd3786"
             ],
             [
              0.5555555555555556,
              "#d8576b"
             ],
             [
              0.6666666666666666,
              "#ed7953"
             ],
             [
              0.7777777777777778,
              "#fb9f3a"
             ],
             [
              0.8888888888888888,
              "#fdca26"
             ],
             [
              1,
              "#f0f921"
             ]
            ],
            "type": "contour"
           }
          ],
          "contourcarpet": [
           {
            "colorbar": {
             "outlinewidth": 0,
             "ticks": ""
            },
            "type": "contourcarpet"
           }
          ],
          "heatmap": [
           {
            "colorbar": {
             "outlinewidth": 0,
             "ticks": ""
            },
            "colorscale": [
             [
              0,
              "#0d0887"
             ],
             [
              0.1111111111111111,
              "#46039f"
             ],
             [
              0.2222222222222222,
              "#7201a8"
             ],
             [
              0.3333333333333333,
              "#9c179e"
             ],
             [
              0.4444444444444444,
              "#bd3786"
             ],
             [
              0.5555555555555556,
              "#d8576b"
             ],
             [
              0.6666666666666666,
              "#ed7953"
             ],
             [
              0.7777777777777778,
              "#fb9f3a"
             ],
             [
              0.8888888888888888,
              "#fdca26"
             ],
             [
              1,
              "#f0f921"
             ]
            ],
            "type": "heatmap"
           }
          ],
          "histogram": [
           {
            "marker": {
             "pattern": {
              "fillmode": "overlay",
              "size": 10,
              "solidity": 0.2
             }
            },
            "type": "histogram"
           }
          ],
          "histogram2d": [
           {
            "colorbar": {
             "outlinewidth": 0,
             "ticks": ""
            },
            "colorscale": [
             [
              0,
              "#0d0887"
             ],
             [
              0.1111111111111111,
              "#46039f"
             ],
             [
              0.2222222222222222,
              "#7201a8"
             ],
             [
              0.3333333333333333,
              "#9c179e"
             ],
             [
              0.4444444444444444,
              "#bd3786"
             ],
             [
              0.5555555555555556,
              "#d8576b"
             ],
             [
              0.6666666666666666,
              "#ed7953"
             ],
             [
              0.7777777777777778,
              "#fb9f3a"
             ],
             [
              0.8888888888888888,
              "#fdca26"
             ],
             [
              1,
              "#f0f921"
             ]
            ],
            "type": "histogram2d"
           }
          ],
          "histogram2dcontour": [
           {
            "colorbar": {
             "outlinewidth": 0,
             "ticks": ""
            },
            "colorscale": [
             [
              0,
              "#0d0887"
             ],
             [
              0.1111111111111111,
              "#46039f"
             ],
             [
              0.2222222222222222,
              "#7201a8"
             ],
             [
              0.3333333333333333,
              "#9c179e"
             ],
             [
              0.4444444444444444,
              "#bd3786"
             ],
             [
              0.5555555555555556,
              "#d8576b"
             ],
             [
              0.6666666666666666,
              "#ed7953"
             ],
             [
              0.7777777777777778,
              "#fb9f3a"
             ],
             [
              0.8888888888888888,
              "#fdca26"
             ],
             [
              1,
              "#f0f921"
             ]
            ],
            "type": "histogram2dcontour"
           }
          ],
          "mesh3d": [
           {
            "colorbar": {
             "outlinewidth": 0,
             "ticks": ""
            },
            "type": "mesh3d"
           }
          ],
          "parcoords": [
           {
            "line": {
             "colorbar": {
              "outlinewidth": 0,
              "ticks": ""
             }
            },
            "type": "parcoords"
           }
          ],
          "pie": [
           {
            "automargin": true,
            "type": "pie"
           }
          ],
          "scatter": [
           {
            "fillpattern": {
             "fillmode": "overlay",
             "size": 10,
             "solidity": 0.2
            },
            "type": "scatter"
           }
          ],
          "scatter3d": [
           {
            "line": {
             "colorbar": {
              "outlinewidth": 0,
              "ticks": ""
             }
            },
            "marker": {
             "colorbar": {
              "outlinewidth": 0,
              "ticks": ""
             }
            },
            "type": "scatter3d"
           }
          ],
          "scattercarpet": [
           {
            "marker": {
             "colorbar": {
              "outlinewidth": 0,
              "ticks": ""
             }
            },
            "type": "scattercarpet"
           }
          ],
          "scattergeo": [
           {
            "marker": {
             "colorbar": {
              "outlinewidth": 0,
              "ticks": ""
             }
            },
            "type": "scattergeo"
           }
          ],
          "scattergl": [
           {
            "marker": {
             "colorbar": {
              "outlinewidth": 0,
              "ticks": ""
             }
            },
            "type": "scattergl"
           }
          ],
          "scattermap": [
           {
            "marker": {
             "colorbar": {
              "outlinewidth": 0,
              "ticks": ""
             }
            },
            "type": "scattermap"
           }
          ],
          "scattermapbox": [
           {
            "marker": {
             "colorbar": {
              "outlinewidth": 0,
              "ticks": ""
             }
            },
            "type": "scattermapbox"
           }
          ],
          "scatterpolar": [
           {
            "marker": {
             "colorbar": {
              "outlinewidth": 0,
              "ticks": ""
             }
            },
            "type": "scatterpolar"
           }
          ],
          "scatterpolargl": [
           {
            "marker": {
             "colorbar": {
              "outlinewidth": 0,
              "ticks": ""
             }
            },
            "type": "scatterpolargl"
           }
          ],
          "scatterternary": [
           {
            "marker": {
             "colorbar": {
              "outlinewidth": 0,
              "ticks": ""
             }
            },
            "type": "scatterternary"
           }
          ],
          "surface": [
           {
            "colorbar": {
             "outlinewidth": 0,
             "ticks": ""
            },
            "colorscale": [
             [
              0,
              "#0d0887"
             ],
             [
              0.1111111111111111,
              "#46039f"
             ],
             [
              0.2222222222222222,
              "#7201a8"
             ],
             [
              0.3333333333333333,
              "#9c179e"
             ],
             [
              0.4444444444444444,
              "#bd3786"
             ],
             [
              0.5555555555555556,
              "#d8576b"
             ],
             [
              0.6666666666666666,
              "#ed7953"
             ],
             [
              0.7777777777777778,
              "#fb9f3a"
             ],
             [
              0.8888888888888888,
              "#fdca26"
             ],
             [
              1,
              "#f0f921"
             ]
            ],
            "type": "surface"
           }
          ],
          "table": [
           {
            "cells": {
             "fill": {
              "color": "#EBF0F8"
             },
             "line": {
              "color": "white"
             }
            },
            "header": {
             "fill": {
              "color": "#C8D4E3"
             },
             "line": {
              "color": "white"
             }
            },
            "type": "table"
           }
          ]
         },
         "layout": {
          "annotationdefaults": {
           "arrowcolor": "#2a3f5f",
           "arrowhead": 0,
           "arrowwidth": 1
          },
          "autotypenumbers": "strict",
          "coloraxis": {
           "colorbar": {
            "outlinewidth": 0,
            "ticks": ""
           }
          },
          "colorscale": {
           "diverging": [
            [
             0,
             "#8e0152"
            ],
            [
             0.1,
             "#c51b7d"
            ],
            [
             0.2,
             "#de77ae"
            ],
            [
             0.3,
             "#f1b6da"
            ],
            [
             0.4,
             "#fde0ef"
            ],
            [
             0.5,
             "#f7f7f7"
            ],
            [
             0.6,
             "#e6f5d0"
            ],
            [
             0.7,
             "#b8e186"
            ],
            [
             0.8,
             "#7fbc41"
            ],
            [
             0.9,
             "#4d9221"
            ],
            [
             1,
             "#276419"
            ]
           ],
           "sequential": [
            [
             0,
             "#0d0887"
            ],
            [
             0.1111111111111111,
             "#46039f"
            ],
            [
             0.2222222222222222,
             "#7201a8"
            ],
            [
             0.3333333333333333,
             "#9c179e"
            ],
            [
             0.4444444444444444,
             "#bd3786"
            ],
            [
             0.5555555555555556,
             "#d8576b"
            ],
            [
             0.6666666666666666,
             "#ed7953"
            ],
            [
             0.7777777777777778,
             "#fb9f3a"
            ],
            [
             0.8888888888888888,
             "#fdca26"
            ],
            [
             1,
             "#f0f921"
            ]
           ],
           "sequentialminus": [
            [
             0,
             "#0d0887"
            ],
            [
             0.1111111111111111,
             "#46039f"
            ],
            [
             0.2222222222222222,
             "#7201a8"
            ],
            [
             0.3333333333333333,
             "#9c179e"
            ],
            [
             0.4444444444444444,
             "#bd3786"
            ],
            [
             0.5555555555555556,
             "#d8576b"
            ],
            [
             0.6666666666666666,
             "#ed7953"
            ],
            [
             0.7777777777777778,
             "#fb9f3a"
            ],
            [
             0.8888888888888888,
             "#fdca26"
            ],
            [
             1,
             "#f0f921"
            ]
           ]
          },
          "colorway": [
           "#636efa",
           "#EF553B",
           "#00cc96",
           "#ab63fa",
           "#FFA15A",
           "#19d3f3",
           "#FF6692",
           "#B6E880",
           "#FF97FF",
           "#FECB52"
          ],
          "font": {
           "color": "#2a3f5f"
          },
          "geo": {
           "bgcolor": "white",
           "lakecolor": "white",
           "landcolor": "#E5ECF6",
           "showlakes": true,
           "showland": true,
           "subunitcolor": "white"
          },
          "hoverlabel": {
           "align": "left"
          },
          "hovermode": "closest",
          "mapbox": {
           "style": "light"
          },
          "paper_bgcolor": "white",
          "plot_bgcolor": "#E5ECF6",
          "polar": {
           "angularaxis": {
            "gridcolor": "white",
            "linecolor": "white",
            "ticks": ""
           },
           "bgcolor": "#E5ECF6",
           "radialaxis": {
            "gridcolor": "white",
            "linecolor": "white",
            "ticks": ""
           }
          },
          "scene": {
           "xaxis": {
            "backgroundcolor": "#E5ECF6",
            "gridcolor": "white",
            "gridwidth": 2,
            "linecolor": "white",
            "showbackground": true,
            "ticks": "",
            "zerolinecolor": "white"
           },
           "yaxis": {
            "backgroundcolor": "#E5ECF6",
            "gridcolor": "white",
            "gridwidth": 2,
            "linecolor": "white",
            "showbackground": true,
            "ticks": "",
            "zerolinecolor": "white"
           },
           "zaxis": {
            "backgroundcolor": "#E5ECF6",
            "gridcolor": "white",
            "gridwidth": 2,
            "linecolor": "white",
            "showbackground": true,
            "ticks": "",
            "zerolinecolor": "white"
           }
          },
          "shapedefaults": {
           "line": {
            "color": "#2a3f5f"
           }
          },
          "ternary": {
           "aaxis": {
            "gridcolor": "white",
            "linecolor": "white",
            "ticks": ""
           },
           "baxis": {
            "gridcolor": "white",
            "linecolor": "white",
            "ticks": ""
           },
           "bgcolor": "#E5ECF6",
           "caxis": {
            "gridcolor": "white",
            "linecolor": "white",
            "ticks": ""
           }
          },
          "title": {
           "x": 0.05
          },
          "xaxis": {
           "automargin": true,
           "gridcolor": "white",
           "linecolor": "white",
           "ticks": "",
           "title": {
            "standoff": 15
           },
           "zerolinecolor": "white",
           "zerolinewidth": 2
          },
          "yaxis": {
           "automargin": true,
           "gridcolor": "white",
           "linecolor": "white",
           "ticks": "",
           "title": {
            "standoff": 15
           },
           "zerolinecolor": "white",
           "zerolinewidth": 2
          }
         }
        },
        "title": {
         "text": "Actual vs Predicted Traffic Density"
        },
        "xaxis": {
         "anchor": "y",
         "domain": [
          0,
          1
         ],
         "title": {
          "text": "Actual Traffic Density"
         }
        },
        "yaxis": {
         "anchor": "x",
         "domain": [
          0,
          1
         ],
         "title": {
          "text": "Predicted Traffic Density"
         }
        }
       }
      }
     },
     "metadata": {},
     "output_type": "display_data"
    },
    {
     "name": "stdout",
     "output_type": "stream",
     "text": [
      "✅ Model and scaler saved successfully!\n"
     ]
    }
   ],
   "source": [
    "# Process data\n",
    "X, y = preprocess_data(df, cat_cols)\n",
    "\n",
    "# Train and evaluate model\n",
    "model, scaler, X_test_scaled, y_test, y_pred, cv_scores = train_evaluate_model(X, y)\n",
    "\n",
    "# Print evaluation metrics and show visualization\n",
    "evaluate_model(model, X_test_scaled, y_test, y_pred, cv_scores)\n",
    "\n",
    "# Save model and scaler\n",
    "joblib.dump(model, \"traffic_model.pkl\")\n",
    "joblib.dump(scaler, \"scaler.pkl\")\n",
    "print(\"✅ Model and scaler saved successfully!\")"
   ]
  },
  {
   "cell_type": "code",
   "execution_count": 81,
   "id": "a5f8ecab",
   "metadata": {},
   "outputs": [
    {
     "data": {
      "application/vnd.plotly.v1+json": {
       "config": {
        "plotlyServerURL": "https://plot.ly"
       },
       "data": [
        {
         "bingroup": "x",
         "hovertemplate": "Traffic Density=%{x}<br>count=%{y}<extra></extra>",
         "legendgroup": "",
         "marker": {
          "color": "#636efa",
          "pattern": {
           "shape": ""
          }
         },
         "name": "",
         "nbinsx": 10,
         "orientation": "v",
         "showlegend": false,
         "type": "histogram",
         "x": {
          "bdata": "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",
          "dtype": "f8"
         },
         "xaxis": "x",
         "yaxis": "y"
        }
       ],
       "layout": {
        "barmode": "relative",
        "legend": {
         "tracegroupgap": 0
        },
        "template": {
         "data": {
          "bar": [
           {
            "error_x": {
             "color": "#2a3f5f"
            },
            "error_y": {
             "color": "#2a3f5f"
            },
            "marker": {
             "line": {
              "color": "#E5ECF6",
              "width": 0.5
             },
             "pattern": {
              "fillmode": "overlay",
              "size": 10,
              "solidity": 0.2
             }
            },
            "type": "bar"
           }
          ],
          "barpolar": [
           {
            "marker": {
             "line": {
              "color": "#E5ECF6",
              "width": 0.5
             },
             "pattern": {
              "fillmode": "overlay",
              "size": 10,
              "solidity": 0.2
             }
            },
            "type": "barpolar"
           }
          ],
          "carpet": [
           {
            "aaxis": {
             "endlinecolor": "#2a3f5f",
             "gridcolor": "white",
             "linecolor": "white",
             "minorgridcolor": "white",
             "startlinecolor": "#2a3f5f"
            },
            "baxis": {
             "endlinecolor": "#2a3f5f",
             "gridcolor": "white",
             "linecolor": "white",
             "minorgridcolor": "white",
             "startlinecolor": "#2a3f5f"
            },
            "type": "carpet"
           }
          ],
          "choropleth": [
           {
            "colorbar": {
             "outlinewidth": 0,
             "ticks": ""
            },
            "type": "choropleth"
           }
          ],
          "contour": [
           {
            "colorbar": {
             "outlinewidth": 0,
             "ticks": ""
            },
            "colorscale": [
             [
              0,
              "#0d0887"
             ],
             [
              0.1111111111111111,
              "#46039f"
             ],
             [
              0.2222222222222222,
              "#7201a8"
             ],
             [
              0.3333333333333333,
              "#9c179e"
             ],
             [
              0.4444444444444444,
              "#bd3786"
             ],
             [
              0.5555555555555556,
              "#d8576b"
             ],
             [
              0.6666666666666666,
              "#ed7953"
             ],
             [
              0.7777777777777778,
              "#fb9f3a"
             ],
             [
              0.8888888888888888,
              "#fdca26"
             ],
             [
              1,
              "#f0f921"
             ]
            ],
            "type": "contour"
           }
          ],
          "contourcarpet": [
           {
            "colorbar": {
             "outlinewidth": 0,
             "ticks": ""
            },
            "type": "contourcarpet"
           }
          ],
          "heatmap": [
           {
            "colorbar": {
             "outlinewidth": 0,
             "ticks": ""
            },
            "colorscale": [
             [
              0,
              "#0d0887"
             ],
             [
              0.1111111111111111,
              "#46039f"
             ],
             [
              0.2222222222222222,
              "#7201a8"
             ],
             [
              0.3333333333333333,
              "#9c179e"
             ],
             [
              0.4444444444444444,
              "#bd3786"
             ],
             [
              0.5555555555555556,
              "#d8576b"
             ],
             [
              0.6666666666666666,
              "#ed7953"
             ],
             [
              0.7777777777777778,
              "#fb9f3a"
             ],
             [
              0.8888888888888888,
              "#fdca26"
             ],
             [
              1,
              "#f0f921"
             ]
            ],
            "type": "heatmap"
           }
          ],
          "histogram": [
           {
            "marker": {
             "pattern": {
              "fillmode": "overlay",
              "size": 10,
              "solidity": 0.2
             }
            },
            "type": "histogram"
           }
          ],
          "histogram2d": [
           {
            "colorbar": {
             "outlinewidth": 0,
             "ticks": ""
            },
            "colorscale": [
             [
              0,
              "#0d0887"
             ],
             [
              0.1111111111111111,
              "#46039f"
             ],
             [
              0.2222222222222222,
              "#7201a8"
             ],
             [
              0.3333333333333333,
              "#9c179e"
             ],
             [
              0.4444444444444444,
              "#bd3786"
             ],
             [
              0.5555555555555556,
              "#d8576b"
             ],
             [
              0.6666666666666666,
              "#ed7953"
             ],
             [
              0.7777777777777778,
              "#fb9f3a"
             ],
             [
              0.8888888888888888,
              "#fdca26"
             ],
             [
              1,
              "#f0f921"
             ]
            ],
            "type": "histogram2d"
           }
          ],
          "histogram2dcontour": [
           {
            "colorbar": {
             "outlinewidth": 0,
             "ticks": ""
            },
            "colorscale": [
             [
              0,
              "#0d0887"
             ],
             [
              0.1111111111111111,
              "#46039f"
             ],
             [
              0.2222222222222222,
              "#7201a8"
             ],
             [
              0.3333333333333333,
              "#9c179e"
             ],
             [
              0.4444444444444444,
              "#bd3786"
             ],
             [
              0.5555555555555556,
              "#d8576b"
             ],
             [
              0.6666666666666666,
              "#ed7953"
             ],
             [
              0.7777777777777778,
              "#fb9f3a"
             ],
             [
              0.8888888888888888,
              "#fdca26"
             ],
             [
              1,
              "#f0f921"
             ]
            ],
            "type": "histogram2dcontour"
           }
          ],
          "mesh3d": [
           {
            "colorbar": {
             "outlinewidth": 0,
             "ticks": ""
            },
            "type": "mesh3d"
           }
          ],
          "parcoords": [
           {
            "line": {
             "colorbar": {
              "outlinewidth": 0,
              "ticks": ""
             }
            },
            "type": "parcoords"
           }
          ],
          "pie": [
           {
            "automargin": true,
            "type": "pie"
           }
          ],
          "scatter": [
           {
            "fillpattern": {
             "fillmode": "overlay",
             "size": 10,
             "solidity": 0.2
            },
            "type": "scatter"
           }
          ],
          "scatter3d": [
           {
            "line": {
             "colorbar": {
              "outlinewidth": 0,
              "ticks": ""
             }
            },
            "marker": {
             "colorbar": {
              "outlinewidth": 0,
              "ticks": ""
             }
            },
            "type": "scatter3d"
           }
          ],
          "scattercarpet": [
           {
            "marker": {
             "colorbar": {
              "outlinewidth": 0,
              "ticks": ""
             }
            },
            "type": "scattercarpet"
           }
          ],
          "scattergeo": [
           {
            "marker": {
             "colorbar": {
              "outlinewidth": 0,
              "ticks": ""
             }
            },
            "type": "scattergeo"
           }
          ],
          "scattergl": [
           {
            "marker": {
             "colorbar": {
              "outlinewidth": 0,
              "ticks": ""
             }
            },
            "type": "scattergl"
           }
          ],
          "scattermap": [
           {
            "marker": {
             "colorbar": {
              "outlinewidth": 0,
              "ticks": ""
             }
            },
            "type": "scattermap"
           }
          ],
          "scattermapbox": [
           {
            "marker": {
             "colorbar": {
              "outlinewidth": 0,
              "ticks": ""
             }
            },
            "type": "scattermapbox"
           }
          ],
          "scatterpolar": [
           {
            "marker": {
             "colorbar": {
              "outlinewidth": 0,
              "ticks": ""
             }
            },
            "type": "scatterpolar"
           }
          ],
          "scatterpolargl": [
           {
            "marker": {
             "colorbar": {
              "outlinewidth": 0,
              "ticks": ""
             }
            },
            "type": "scatterpolargl"
           }
          ],
          "scatterternary": [
           {
            "marker": {
             "colorbar": {
              "outlinewidth": 0,
              "ticks": ""
             }
            },
            "type": "scatterternary"
           }
          ],
          "surface": [
           {
            "colorbar": {
             "outlinewidth": 0,
             "ticks": ""
            },
            "colorscale": [
             [
              0,
              "#0d0887"
             ],
             [
              0.1111111111111111,
              "#46039f"
             ],
             [
              0.2222222222222222,
              "#7201a8"
             ],
             [
              0.3333333333333333,
              "#9c179e"
             ],
             [
              0.4444444444444444,
              "#bd3786"
             ],
             [
              0.5555555555555556,
              "#d8576b"
             ],
             [
              0.6666666666666666,
              "#ed7953"
             ],
             [
              0.7777777777777778,
              "#fb9f3a"
             ],
             [
              0.8888888888888888,
              "#fdca26"
             ],
             [
              1,
              "#f0f921"
             ]
            ],
            "type": "surface"
           }
          ],
          "table": [
           {
            "cells": {
             "fill": {
              "color": "#EBF0F8"
             },
             "line": {
              "color": "white"
             }
            },
            "header": {
             "fill": {
              "color": "#C8D4E3"
             },
             "line": {
              "color": "white"
             }
            },
            "type": "table"
           }
          ]
         },
         "layout": {
          "annotationdefaults": {
           "arrowcolor": "#2a3f5f",
           "arrowhead": 0,
           "arrowwidth": 1
          },
          "autotypenumbers": "strict",
          "coloraxis": {
           "colorbar": {
            "outlinewidth": 0,
            "ticks": ""
           }
          },
          "colorscale": {
           "diverging": [
            [
             0,
             "#8e0152"
            ],
            [
             0.1,
             "#c51b7d"
            ],
            [
             0.2,
             "#de77ae"
            ],
            [
             0.3,
             "#f1b6da"
            ],
            [
             0.4,
             "#fde0ef"
            ],
            [
             0.5,
             "#f7f7f7"
            ],
            [
             0.6,
             "#e6f5d0"
            ],
            [
             0.7,
             "#b8e186"
            ],
            [
             0.8,
             "#7fbc41"
            ],
            [
             0.9,
             "#4d9221"
            ],
            [
             1,
             "#276419"
            ]
           ],
           "sequential": [
            [
             0,
             "#0d0887"
            ],
            [
             0.1111111111111111,
             "#46039f"
            ],
            [
             0.2222222222222222,
             "#7201a8"
            ],
            [
             0.3333333333333333,
             "#9c179e"
            ],
            [
             0.4444444444444444,
             "#bd3786"
            ],
            [
             0.5555555555555556,
             "#d8576b"
            ],
            [
             0.6666666666666666,
             "#ed7953"
            ],
            [
             0.7777777777777778,
             "#fb9f3a"
            ],
            [
             0.8888888888888888,
             "#fdca26"
            ],
            [
             1,
             "#f0f921"
            ]
           ],
           "sequentialminus": [
            [
             0,
             "#0d0887"
            ],
            [
             0.1111111111111111,
             "#46039f"
            ],
            [
             0.2222222222222222,
             "#7201a8"
            ],
            [
             0.3333333333333333,
             "#9c179e"
            ],
            [
             0.4444444444444444,
             "#bd3786"
            ],
            [
             0.5555555555555556,
             "#d8576b"
            ],
            [
             0.6666666666666666,
             "#ed7953"
            ],
            [
             0.7777777777777778,
             "#fb9f3a"
            ],
            [
             0.8888888888888888,
             "#fdca26"
            ],
            [
             1,
             "#f0f921"
            ]
           ]
          },
          "colorway": [
           "#636efa",
           "#EF553B",
           "#00cc96",
           "#ab63fa",
           "#FFA15A",
           "#19d3f3",
           "#FF6692",
           "#B6E880",
           "#FF97FF",
           "#FECB52"
          ],
          "font": {
           "color": "#2a3f5f"
          },
          "geo": {
           "bgcolor": "white",
           "lakecolor": "white",
           "landcolor": "#E5ECF6",
           "showlakes": true,
           "showland": true,
           "subunitcolor": "white"
          },
          "hoverlabel": {
           "align": "left"
          },
          "hovermode": "closest",
          "mapbox": {
           "style": "light"
          },
          "paper_bgcolor": "white",
          "plot_bgcolor": "#E5ECF6",
          "polar": {
           "angularaxis": {
            "gridcolor": "white",
            "linecolor": "white",
            "ticks": ""
           },
           "bgcolor": "#E5ECF6",
           "radialaxis": {
            "gridcolor": "white",
            "linecolor": "white",
            "ticks": ""
           }
          },
          "scene": {
           "xaxis": {
            "backgroundcolor": "#E5ECF6",
            "gridcolor": "white",
            "gridwidth": 2,
            "linecolor": "white",
            "showbackground": true,
            "ticks": "",
            "zerolinecolor": "white"
           },
           "yaxis": {
            "backgroundcolor": "#E5ECF6",
            "gridcolor": "white",
            "gridwidth": 2,
            "linecolor": "white",
            "showbackground": true,
            "ticks": "",
            "zerolinecolor": "white"
           },
           "zaxis": {
            "backgroundcolor": "#E5ECF6",
            "gridcolor": "white",
            "gridwidth": 2,
            "linecolor": "white",
            "showbackground": true,
            "ticks": "",
            "zerolinecolor": "white"
           }
          },
          "shapedefaults": {
           "line": {
            "color": "#2a3f5f"
           }
          },
          "ternary": {
           "aaxis": {
            "gridcolor": "white",
            "linecolor": "white",
            "ticks": ""
           },
           "baxis": {
            "gridcolor": "white",
            "linecolor": "white",
            "ticks": ""
           },
           "bgcolor": "#E5ECF6",
           "caxis": {
            "gridcolor": "white",
            "linecolor": "white",
            "ticks": ""
           }
          },
          "title": {
           "x": 0.05
          },
          "xaxis": {
           "automargin": true,
           "gridcolor": "white",
           "linecolor": "white",
           "ticks": "",
           "title": {
            "standoff": 15
           },
           "zerolinecolor": "white",
           "zerolinewidth": 2
          },
          "yaxis": {
           "automargin": true,
           "gridcolor": "white",
           "linecolor": "white",
           "ticks": "",
           "title": {
            "standoff": 15
           },
           "zerolinecolor": "white",
           "zerolinewidth": 2
          }
         }
        },
        "title": {
         "text": "Distribution of Traffic Density"
        },
        "xaxis": {
         "anchor": "y",
         "domain": [
          0,
          1
         ],
         "title": {
          "text": "Traffic Density"
         }
        },
        "yaxis": {
         "anchor": "x",
         "domain": [
          0,
          1
         ],
         "title": {
          "text": "count"
         }
        }
       }
      }
     },
     "metadata": {},
     "output_type": "display_data"
    }
   ],
   "source": [
    "fig4 = px.histogram(df, x=\"Traffic Density\", nbins=10, title=\"Distribution of Traffic Density\")\n",
    "fig4.show()"
   ]
  },
  {
   "cell_type": "code",
   "execution_count": 82,
   "id": "81875a05",
   "metadata": {},
   "outputs": [
    {
     "data": {
      "application/vnd.plotly.v1+json": {
       "config": {
        "plotlyServerURL": "https://plot.ly"
       },
       "data": [
        {
         "alignmentgroup": "True",
         "hovertemplate": "Is Peak Hour=%{x}<br>Traffic Density=%{y}<extra></extra>",
         "legendgroup": "",
         "marker": {
          "color": "#636efa"
         },
         "name": "",
         "notched": false,
         "offsetgroup": "",
         "orientation": "v",
         "showlegend": false,
         "type": "box",
         "x": {
          "bdata": "AAEAAAAAAQAAAAAAAAAAAAEAAAAAAAAAAQAAAAAAAAAAAAABAAAAAQAAAAAAAAABAAABAAAAAQAAAAAAAAAAAQAAAAABAAAAAAAAAAEAAAAAAQAAAQAAAQAAAAAAAAAAAAAAAQAAAQAAAAABAAAAAQAAAAAAAQEAAQAAAAEAAAABAAAAAAABAAAAAAAAAQAAAAABAAAAAAAAAAAAAAAAAAABAQEBAAAAAQAAAAAAAAAAAAAAAAAAAAAAAQAAAAABAAAAAAAAAAAAAQAAAAAAAAAAAAAAAQAAAAAAAQAAAAABAAAAAAAAAAAAAAABAAAAAAAAAAAAAAAAAAAAAAABAAAAAAABAAAAAQAAAAAAAAAAAAAAAAAAAAAAAAAAAAAAAAAAAAEAAQAAAAABAQAAAAAAAAAAAAEAAQAAAAAAAAAAAQAAAAABAAAAAAAAAAAAAAAAAQAAAAEAAAEBAAAAAAABAAAAAAAAAAEBAAAAAAAAAQAAAAEAAAABAAAAAAEAAAAAAAAAAAAAAAAAAAAAAAAAAAAAAAABAAAAAQAAAQABAAAAAQAAAAEAAAEAAQAAAAEAAAEAAAAAAQEAAAABAAAAAAAAAAABAAAAAAABAAABAAAAAQAAAAAAAQAAAAAAAQABAAAAAAAAAAABAAAAAAAAAAAAAAAAAAAAAAAAAAAAAQAAAAAAAAEAAAABAQAAAAAAAAAAAAAAAAABAAAAAAABAQEAAAAAAAABAAAAAAABAAEAAAAAAAAAAAAAAAAAAAAAAAAAAAAAAAABAAAAAQAAAAABAAAAAAEAAAEBAAAAAAAAAAEAAAAAAAEAAAAAAAABAAAAAAAAAAAAAAEAAAAAAAAAAAAAAAAAAAABAAABAAEAAAAAAAABAAAAAAEAAAAAAAEAAAAAAAAAAAAAAAEAAAEAAAEAAAAAAAEAAAEBAAAAAAAAAAABAQAAAAAAAAEAAAAAAAAAAAAAAAAAAAAAAAAAAAABAQAAAAAAAAAAAAABAAAAAAEAAQAAAAAAAAAAAAAAAAABAAAAAAAAAQAAAAAAAAAAAAAAAAAAAAAAAAAAAAAAAAEAAAAAAAAAAAAAAAAAAQAAAAAAAAAAAAAAAAAAAQEAAAAAAAAAAAAAAAEAAAAAAAEAAQAAAAABAAAAAAAAAQAAAAABAAAAAAEAAAAAAAEAAAAAAAAAAAAAAAAAAAAAAAEAAAAAAAABAAAAAAEAAAAAAAEAAAAAAQAAAAAAAAAAAAAAAAAAAQAAAAABAAAAAAAAAAAAAAAAAAAAAAAAAAEAAAABAQEAAQEAAAABAAAAAAAAAAEAAQAAAAAAAAAAAAAAAAAAAAAAAAAAAAAAAAEAAQAAAAABAAAAAAAAAQAAAAAAAAEBAAAAAQAAAAAAAAAAAAEAAAAAAAABAAAAAAABAAAAAAAAAAAAAAAAAQAAAAAAAAAAAAAAAAAAAAAAAAEAAAABAAAAAAAAAAAAAAEAAQEAAAABAAAAAAAAAAAAAAAAAAEAAAEAAAAAAAAAAAAAAAAAAAAAAAAAAAAAAAABAAEAAAAAAAAAAAAAAQAAAAAAAAAAAAAAAAAAAAAAAAAAAAAAAAAAAAAAAAEAAAABAAAAAAAAAAAAAQEAAAAAAAAAAAEAAAAAAQAAAAEAAAEAAAAAAAAAAAABAAAAAQAAAAAAAAAAAQAAAAAAAAAAAAEAAAAAAAAAAAAAAAAAAAAAAAAAAAAAAAAAAAAAAAAAAAAAAAAAAAAAAAABAAAAAAAAAAEAAQAAAAAAAQABAAAAAAAAAAAAAQAAAAAAAAAAAAAAAAAAAAAAAAABAAAAAAABAAAAAAEAAQAAAAAAAAABAQAAAAAAAAAAAAAAAAABAAABAAABAAAAAAAAAAABAAAAAQAAAAAAAAEAAAAAAAAAAAAAAAEAAQAAAAAAAAAAAAEAAAAAAAABAQAAAAAAAAABAAAAAAAAAAAAAAAAAAAAAAEAAQAAAAAAAAAAAAABAAAAAAABAAAAAAAAAAEAAAAAAAAAAAAAAAABAAAAAAABAAAAAAAAAQAAAAABAAAAAAAAAAAAAAAAAAABAAABAAABAAAAAAAAAAAAAAABAAAAAAAAAAEAAQEAAAAAAAAAAAAAAAAAAAABAAAAAAAAAAABAAAAAAABAAAAAAAAAAAAAAEAAAAAAAAAAAAAAAABAAEAAAAAAAAAAAAAAAAAAAAAAAEAAAAAAAAAAAAAAQAAAAAAAAEAAAAAAAAAAAAAAAAAAAAAAAABAAAAAAAAAAAAAAAAAAAAAAEAAAAAAAAAAAAAAAABAQAAAAAAAAAAAAAAAAAAAAEAAAAAAAAAAAEAAAAAAQAAAAAAAAAAAAAAAAAAAAEAAAAAAAAAAAAAAAAAAQAAAAAAAQAAAQABAAABAAAAAAAAAAABAAAAAAABAAABAAAAAAAAAAAAAAAAAAAAAAAAAAAAAAAAAAAAAAAAAAAAAAEAAAAAAAAAAAAAAAEAAAAAAAAAAQAAAAAAAAAAAAAAAQAAAQEAAAAAAAABAAEAAAAAAAAAAAAAAAABAAABAAAAAAABAAAAAAAAAAAAAAABAAABAAAAAQEAAAAAAAAAAAAAAAAAAAAAAAABAAAAAAAAAQAAAAAAAAAAAAAAAAABAAAAAAAAAAEAAAABAAABAAAAAAAAAQAAAQAAAAAAAAAAAAAAAAAAAAAAAAAAAAAAAAABAQAAAAAAAQAAAAAAAAAAAAAAAAAAAQAAAAABAAAAAQAAAAAAAQAAAQAAAQEAAAAAAAEAAAAAAQEBAAAAAAEAAAAAAAEAAAAAAAAAAAAAAAAAAAAAAAAAAAAAAAAAAAEAAAAAAAAAAAABAAAAAAAAAAEAAAAAAAAAAAEAAAABAAAAAAAAAAEAAAAAAAAAAAEAAAAAAAAAAAAAAQABAAAAAAAAAAABAAAAAAAAAAAAAQAAAAAAAAAAAQEAAAAAAAAAAAABAAEAAAABAQAAAAAAAAAAAQABAAEAAAEAAQAAAAAAAAEAAAEAAAAAAAAAAQAAAAAAAAAAAAABAAAAAAAAAAAAAAAAAAAAAAAAAAAAAAAAAAAAAAAAAAABAAAAAAEAAQAAAAAAAAAAAAAAAQAAAAAAAQAAAQAAAAAAAAAAAAABAAAAAAABAQAAAAAAAAAAAAAAAAAAAAAAAQAAAAAAAAAAAAAAAAAAAAAAAAAAAAAAAAABAAEAAAAAAAABAQAAAAABAQAAAAAAAAABAAAAAAAAAAABAAEBAAABAQAAAAAAAAAAAAAAAAAAAAAAAAAAAAAAAAAAAAAAAAAAAQAAAAAAAAABAAAAAAAAAAAAAAAAAAAAAAAAAAAAAAEAAAABAAEAAAAAAAEAAQABAAEAAAAAAAAAAAAAAAAAAAAAAAEAAAAAAAABAQAAAAEAAAAAAAAAAAEAAAABAAABAAAAAAAAAAAAAAAAAAAAAQAAAQAAAAAAAAAAAAAAAAAAAAEAAAAAAAEAAAAAAAEAAAAAAAAAAQAAAAAAAQAAAAAAAAAAAQAAAAAAAAEAAAAAAAAAAAAAAQAAAAAAAAAAAQAAAQAAAAAAAAAAAAAAAAAAAQAAAAAAAAAAAQABAAAAAAABAAAAAAAAAAABAAAAAAAAAAAAAAAAAQAAAAABAAEAAQAAAAAAAAAAAAAAAAAAAAABAQAAAAABAAAAAAABAAAAAAAAAAAAAQAAAAAAAAABAAAAAAAAAQAAAAAAAQABAAAAAAAAAAEAAAAAAAEAAAAAAAAAAAAAAAAAAAABAQAAAAAAAAAAAAAAAAAAAAAAAQAAAAAAAAAAAAABAAAAAAAAAAABAAAAAAEAAAAAAAAAAQAAAAEAAAAAAAAAAAEAAAAAAAAAAAAAAQEBAAAAAAABAAAAAQAAAQABAAAAAAAAAAEAAAAAAAAAAAAAAAAAAAAAAAAAAAABAAAAAAAAAAAAAAAAAQAAAQAAAQAAAAEAAAAAAAAAAQAAAAAAAAAAAAEAAAAAAAEAAAAAAAAAAAAAAAAAAAAAAAAAAAAAAAAAAAEAAAEAAAABAAABAAAAAAAAAAABAAAAAQAAAAAAAAAAAQEAAAAAAQAAAAABAAAAAAAAAAAAAAABAAEAAQAAAAAAAAABAAAAAAAAAAAAAQAAAAAAAAEAAAAAAAAAAAAAAAAAAAAAAAAAAAAAAAAAAAAAAAEAAAABAAAAAAAAAAABAAABAAAAAAAAAQAAAAAAAAEAAAAAAAAAAAEAAAAAAAAAAQABAAAAAAAAAAEAAAAAAAEAAAAAAAAAAAAAAQABAAAAAAAAAAAAAAAAAAAAAQABAAAAAAEBAQAAAQAAAAAAAAAAAAABAAAAAAEAAAAAAQEAAAEAAAEAAAABAAAAAAAAAAAAAAAAAAAAAQAAAAAAAAAAAAAAAAAAAAEAAAAAAAAAAAAAAQAAAQABAAAAAAAAAAAAAAAAAAABAAAAAAAAAAAAAAAAAAABAAAAAAAAAQAAAAAAAAAAAAAAAAAAAAAAAAAAAAEAAAAAAAAAAAAAAAAAAQAAAAAAAAAAAAAAAAAAAAEAAAAAAAAAAAAAAQAAAAEAAAAAAQAAAAAAAQAAAAABAAAAAAAAAAAAAAAAAAAAAAAAAQABAAEAAQAAAAAAAAEAAQAAAQEAAAAAAAAAAAAAAQAAAAAAAAAAAAABAAABAQABAAAAAAAAAAAAAAAAAAAAAQAAAAAAAAABAAAAAQAAAAAAAAAAAAEAAAAAAAAAAAAAAAEAAAAAAAAAAAABAAEAAQAAAQAAAQABAAABAQAAAAAAAAAAAAEAAAABAAAAAAAAAQAAAAABAAAAAAAAAAABAAABAQABAQEAAAAAAAAAAAEAAAAAAAEAAAAAAAEAAAAAAAAAAQAAAAAAAAABAAAAAAAAAAAAAAABAAAAAAAAAAAAAAAAAAAAAQEAAQAAAAAAAAAAAQEAAAABAAAAAAEAAAAAAAAAAAAAAAAAAAEAAAAAAAABAAAAAAEAAAAAAAAAAAABAAABAQAAAAABAAAAAAAAAAAAAQEAAAAAAAEAAAEAAAABAAAAAAABAAAAAAAAAAABAAABAAAAAQEAAAEAAAAAAAAAAAAAAAEBAAAAAAEAAAAAAAAAAAAAAAAAAQAAAAEAAAAAAQAAAAAAAAAAAAAAAAABAAEBAAEAAQAAAAAAAQAAAAAAAAAAAAAAAQAAAAAAAAABAQAAAAEAAAAAAAEBAAAAAAAAAAAAAAAAAAEAAAABAAAAAAAAAAAAAAAAAAAAAAAAAAAAAAAAAAAAAAAAAAAAAAAAAAAAAAABAAABAAAAAAAAAAABAAAAAAAAAAAAAAAAAQEAAAAAAAAAAAAAAAEAAQAAAAAAAAEAAAAAAAAAAAAAAAAAAAAAAAEBAAAAAAAAAAAAAAAAAAEAAAAAAQAAAAAAAAAAAAAAAAAAAAAAAAABAAAAAAAAAAABAAAAAAABAAABAQAAAAAAAAABAAAAAAEAAAAAAAEAAAAAAAABAAAAAAAAAAAAAAAAAAEAAQAAAAAAAAAAAAAAAAAAAAAAAAAAAAEAAAAAAAAAAAAAAAEAAAAAAAAAAAAAAQEAAAAAAAAAAQAAAAAAAAAAAAAAAAABAQEAAAAAAAAAAAAAAAAAAAEBAQAAAAAAAAEAAAAAAAAAAAAAAAAAAAAAAAEAAAAAAAAAAAAAAAEAAAEBAAAAAAAAAAEAAQAAAQABAAAAAAABAAAAAAAAAAAAAAAAAAAAAAAAAAAAAAAAAAEAAAABAAAAAAEAAAAAAQAAAAEAAAAAAAAAAAAAAQAAAAAAAAAAAAAAAAAAAAAAAAAAAQAAAAAAAAABAAEAAAAAAAABAQABAAAAAQAAAAAAAAAAAAEAAAEAAAAAAAAAAAAAAAAAAAEAAAAAAAEAAAAAAAAAAQAAAAAAAAAAAAAAAAEBAAAAAAAAAAAAAAAAAAAAAAAAAAAAAAEAAAAAAQEAAAAAAAAAAAEAAQEAAQAAAAAAAAAAAQAAAQAAAAAAAAABAAAAAQAAAQAAAQAAAAAAAAAAAAEAAAAAAQAAAAEBAAAAAAAAAAABAAEAAAAAAAAAAQAAAQAAAAABAAAAAAAAAAABAQEAAQABAAAAAAAAAAAAAAAAAAABAAAAAAAAAQAAAAAAAAABAAAAAAAAAAEAAQAAAQAAAAAAAAAAAAABAAAAAAAAAAAAAQAAAAAAAAAAAQAAAAAAAAAAAAAAAAAAAQAAAAAAAAABAQAAAAAAAQEAAAEAAAAAAAAAAAAAAAEAAAEBAAEAAAABAQABAAAAAAABAAAAAAABAAAAAAAAAQAAAAAAAAAAAAAAAAAAAAAAAAAAAAAAAAEAAAAAAAAAAAAAAAAAAAAAAAABAAAAAAAAAQEAAAEAAQAAAAAAAAAAAAABAQEAAAAAAAAAAAEAAAEAAQAAAQABAAAAAAABAQAAAAAAAAABAAAAAAAAAAAAAAAAAAEBAAABAAAAAAAAAAEAAQAAAAAAAAEAAQAAAAABAAAAAAAAAQAAAQAAAAAAAAAAAAABAAEAAAAAAAEAAQABAAEBAAAAAAAAAAEAAAAAAAAAAAAAAAEAAAEAAAAAAAAAAAAAAAEAAQAAAAAAAAABAAAAAAAAAAAAAAAAAAAAAAAAAAAAAAABAAAAAAAAAAAAAQAAAQEBAAABAAAAAAABAAAAAAEAAAAAAQAAAAEAAAAAAQAAAQAAAAAAAAEAAQAAAQAAAAAAAAAAAAABAAAAAAAAAAAAAAABAAEAAAABAAEAAAABAAAAAAAAAAAAAAAAAAAAAAAAAAAAAAAAAQAAAAEAAAAAAAAAAAAAAAAAAAAAAAAAAAAAAAEAAAAAAQAAAAAAAAAAAAABAQAAAAAAAAAAAQAAAAABAAAAAAAAAAAAAQAAAQABAAABAAABAQAAAAEAAAABAQEAAQAAAAAAAAAAAQAAAAAAAAAAAAAAAAABAAAAAAAAAAAAAAAAAAAAAAAAAAEAAAAAAAAAAAAAAAAAAAAAAAEAAQAAAAEBAAEAAQEAAQABAAAAAAAAAAAAAAABAQEAAAAAAAEAAAAAAAAAAAABAQABAAAAAAAAAAAAAAAAAQAAAQEAAQABAQEBAQEBAAAAAAAAAAAAAAAAAAAAAQABAQAAAAABAAAAAAAAAAEAAAAAAAAAAAAAAAEAAAAAAAAAAAAAAQAAAAAAAAAAAAEBAAAAAQAAAAABAAABAAAAAAAAAAAAAAEBAAAAAQAAAQAAAAABAAABAAAAAAAAAAAAAQAAAAEAAAEAAAAAAAAAAQAAAAABAQAAAAAAAAAAAAABAAABAAAAAAAAAAEAAAAAAAAAAAEAAAABAAAAAAAAAAEAAAAAAAEAAAAAAAABAAAAAQAAAAAAAAAAAAABAAAAAQABAAAAAAAAAAEAAAAAAAAAAAABAAAAAAAAAAEAAAAAAAAAAAAAAAEAAAAAAAAAAQABAAAAAAAAAAAAAAAAAQAAAQEAAAAAAQEAAAAAAAAAAAAAAAAAAAAAAAEAAQAAAAAAAAABAAAAAAEBAAAAAAABAQAAAAAAAAAAAAAAAAEAAAABAAAAAAABAAAAAAAAAAAAAAAAAAABAQAAAQAAAAAAAAABAAABAAAAAAAAAAAAAAAAAAAAAAEAAAAAAAAAAAAAAAAAAAAAAAAAAAAAAAAAAAAAAAAAAAEAAAAAAAEAAQAAAAEBAAABAAAAAAAAAAABAAAAAAAAAQABAAAAAAAAAAAAAQAAAAAAAAAAAAAAAAAAAAAAAAABAQAAAAAAAQAAAAAAAAAAAQEBAAAAAAAAAAAAAAAAAQAAAQABAQABAAABAQAAAQAAAAAAAAAAAAEAAAAAAAAAAAAAAAEAAQAAAAAAAAEAAAEAAAAAAQABAAABAQEBAQAAAAEAAAAAAQAAAAABAQAAAAEBAAAAAAABAQAAAAAAAQAAAAAAAAAAAQAAAAAAAAAAAAAAAAABAAAAAAAAAQABAAAAAAAAAQAAAQAAAQEAAQAAAAABAAAAAQAAAAAAAAAAAAAAAQAAAAAAAAEAAAAAAQAAAAAAAQAAAAAAAAAAAQAAAAEAAAAAAAAAAAABAAAAAAAAAAABAQAAAAABAAEBAQAAAAEAAAAAAAAAAAEAAAABAAAAAAAAAAEAAAEBAAABAAAAAAAAAAAAAAAAAAAAAAAAAAAAAAEAAAAAAQEAAAEAAAABAAAAAAAAAAEAAAAAAAEAAAABAAAAAAEAAAAAAAAAAAABAAABAAEAAAAAAAABAAABAAAAAAABAAAAAQEAAAAAAAAAAAAAAAAAAQAAAAEAAAAAAAAAAAEAAQAAAAAAAAEAAAAAAAEAAAAAAAAAAAAAAAEBAAEAAAAAAAAAAAAAAAAAAAEAAAAAAAAAAQEAAAAAAAAAAAAAAAAAAAAAAQEBAAAAAAAAAAAAAAAAAAAAAAAAAAEAAQEBAAABAAAAAAAAAAAAAAAAAQAAAAAAAAAAAAEAAAAAAAEAAAAAAQAAAQAAAAAAAQAAAAAAAAAAAAABAAAAAQAAAAAAAAAAAAABAAEAAAAAAAABAQEAAAAAAQABAAAAAAAAAAAAAAABAAAAAAEAAQEBAQAAAQAAAAAAAAAAAAAAAAAAAAAAAAAAAAAAAAAAAAAAAAAAAAEAAAAAAAAAAAAAAQAAAAEAAAAAAAAAAAAAAAAAAAAAAAAAAQAAAAAAAAAAAQAAAAAAAAAAAAAAAAEAAAABAAABAAAAAAAAAAAAAAABAAAAAAAAAQAAAAABAAAAAAABAAAAAAAAAAAAAAAAAAAAAAABAAAAAAAAAAAAAAABAAABAAAAAAAAAAAAAAAAAAAAAAAAAAABAAAAAAABAAAAAAAAAAABAQAAAAAAAAAAAAABAAAAAAAAAAABAAAAAAAAAAEBAAAAAAEAAQAAAAAAAAAAAAEAAAAAAAEAAQAAAQAAAAEAAAAAAAAAAAEAAAEAAAAAAAEBAAAAAQAAAAEBAAAAAAAAAAAAAAAAAAABAAABAQEAAAAAAAEAAAAAAAAAAAAAAAABAQAAAAAAAAEAAAAAAAAAAAABAAAAAAAAAAAAAQAAAAAAAQEAAQAAAQABAAAAAQAAAAEAAAAAAAAAAAAAAAAAAAAAAAAAAAABAAAAAAAAAAABAAAAAAAAAAABAAAAAAEAAAAAAAAAAQAAAAAAAAAAAAAAAAAAAAAAAAAAAQAAAAAAAAAAAQAAAAAAAAAAAQAAAAABAAAAAAAAAAAAAAAAAAAAAAABAAABAAAAAQAAAAEAAAABAAAAAAEAAQAAAAABAAABAAAAAAEAAAEAAAABAAAAAAABAAAAAAABAAAAAQAAAAAAAAAAAAAAAAEAAAAAAAEAAAAAAAAAAAAAAAAAAAEAAAAAAAAAAQAAAAEAAAAAAAAAAAAAAQAAAQAAAAABAAEAAAEAAAEAAAAAAAAAAQAAAAAAAAAAAQAAAAAAAAAAAAAAAAAAAAEAAAAAAAAAAAABAAABAAABAAAAAAABAAAAAQAAAAAAAAAAAAAAAAEBAAABAAAAAAAAAAAAAAAAAQAAAAAAAAAAAAAAAQAAAAAAAQAAAAAAAAAAAAABAAEAAAAAAAAAAAAAAAAAAAABAAAAAAABAAAAAAAAAAAAAAABAQAAAQAAAAEAAAAAAAAAAAEAAAAAAAAAAAAAAAAAAQAAAAAAAAEAAQABAAAAAAAAAAAAAAEAAAAAAAABAAEAAAAAAAABAAEAAAEAAAAAAAAAAAEAAAAAAAAAAAAAAQAAAAAAAQEAAAAAAAAAAAAAAAAAAAAAAAABAAAAAAEAAAAAAAAAAQABAAAAAAABAAABAQEAAAAAAAAAAAEAAAAAAAAAAAAAAAAAAQAAAAAAAAAAAAAAAAAAAAAAAAAAAAEAAAEAAAAAAAAAAAAAAAAAAAAAAAAAAAAAAAEAAAAAAAAAAAAAAAAAAAEAAAAAAAAAAAABAAAAAAAAAAAAAAAAAAAAAAAAAAAAAAAAAAAAAAAAAAAAAAEAAAAAAAABAQAAAAEAAAAAAAAAAAEBAAAAAAABAAAAAAAAAAEAAAABAAAAAAAAAAAAAAEAAAAAAAABAAABAAAAAAAAAAAAAAAAAAAAAQAAAAEAAAAAAAABAAEAAAAAAAEAAAAAAQAAAAAAAAABAAEAAAAAAAAAAAAAAAAAAAAAAAEAAAAAAAAAAAAAAAAAAAAAAAAAAAEAAQAAAAAAAAAAAAEAAAAAAAAAAAAAAAAAAAAAAAAAAAAAAAAAAAABAQAAAAABAAAAAAABAAABAAABAAABAAAAAAAAAAAAAAAAAAABAAAAAAAAAQAAAAAAAAAAAQAAAAAAAAAAAAAAAAAAAAABAQEAAAAAAAAAAAAAAAAAAAEAAAAAAAAAAAAAAAEAAQABAAEAAAAAAAAAAAAAAAAAAQEAAAAAAAAAAAEAAAAAAAAAAAABAAABAAAAAAAAAAAAAAEBAAAAAQAAAAEAAAAAAAAAAAAAAAAAAAABAAAAAQAAAAAAAAAAAAEBAAAAAQEAAQAAAAAAAAAAAAABAAEAAAABAAAAAAAAAAEAAAAAAAEAAAAAAAAAAQEAAAAAAAEAAAABAAAAAAAAAAAAAAAAAAAAAAAAAAAAAAAAAAEBAAAAAAAAAAAAAAAAAAABAAEAAAEAAAABAAABAAAAAAAAAAAAAAEAAAAAAAAAAAAAAAAAAAAAAAEAAAAAAAAAAAAAAAAAAAAAAAAAAAEAAAAAAAAAAAAAAAABAAEBAAAAAAAAAAAAAQAAAAAAAAAAAAAAAAAAAAABAAAAAAAAAAAAAAAAAQAAAAAAAAAAAAEAAAEAAQEAAAABAAAAAAAAAAAAAAAAAAAAAAABAQAAAAAAAQAAAAAAAAAAAAAAAQEAAAAAAAAAAAABAQAAAAAAAAAAAAABAAEAAAAAAAAAAAAAAAAAAAAAAQEAAQAAAAAAAAABAAAAAAAAAAEAAQEAAQEAAAAAAAAAAQAAAAEAAAAAAQAAAQAAAAEAAAAAAAAAAQAAAQAAAAAAAQAAAAAAAAAAAQAAAAAAAAAAAQABAQAAAQAAAAAAAAAAAAEAAAAAAAAAAQEAAAAAAQAAAAAAAAAAAAAAAAEAAAAAAAAAAAABAAAAAAEAAAAAAQEAAAEAAAAAAAAAAAABAAAAAAAAAQABAQEAAAAAAAAAAAAAAAAAAAAAAAABAAAAAQAAAAAAAAAAAAAAAAEAAAAAAAABAAABAAAAAQAAAAAAAAAAAAAAAAAAAAAAAAABAAAAAQABAAAAAAEAAQAAAAAAAAAAAAAAAAAAAAAAAAAAAQABAAAAAAAAAQAAAQAAAAAAAAEAAQAAAAAAAAEAAAEAAAEAAAEAAAAAAAAAAAEBAAAAAAAAAAAAAAAAAQAAAAAAAAAAAAAAAAAAAAABAAAAAAABAAAAAAAAAAABAAAAAAAAAAAAAAAAAAAAAAEAAQABAAAAAQAAAAAAAAAAAAAAAAAAAAAAAQAAAAAAAAAAAAAAAAAAAQEAAAAAAAEAAQAAAAAAAQAAAAAAAAAAAAEBAAAAAAAAAAAAAAAAAQAAAAAAAAAAAAAAAQAAAAAAAAABAAABAAAAAAAAAQAAAQAAAAAAAAAAAAAAAAAAAAABAAABAQABAAAAAAAAAAAAAAABAAAAAAAAAAAAAAABAAAAAAAAAAABAAAAAAAAAAAAAAAAAAAAAAAAAAAAAAEAAAAAAAAAAAEAAAAAAAAAAAAAAAEBAAAAAAAAAAABAAAAAAAAAAEAAQEAAQEAAAAAAAAAAQAAAAAAAAAAAAAAAAAAAQEAAQAAAAAAAQABAAEAAAAAAAAAAQEAAAAAAAEBAAAAAAAAAQAAAAAAAAAAAAAAAAAAAAAAAAAAAAAAAQAAAAAAAAAAAAAAAQAAAAAAAAAAAAAAAAAAAAAAAAAAAAAAAAAAAAAAAQAAAQEBAQAAAAEAAAABAAAAAAAAAAAAAAAAAAAAAAABAAAAAAABAAEAAAAAAAAAAAAAAAABAQAAAQABAAEBAAEAAAABAAAAAAABAQAAAAAAAAAAAQAAAQABAAAAAAAAAAAAAAAAAAAAAAAAAAABAAAAAAAAAAAAAAAAAAAAAAAAAAEBAQAAAAAAAAABAQAAAAAAAAABAQAAAQAAAAAAAAAAAAAAAAAAAAAAAAAAAQAAAAAAAAAAAQAAAAAAAAEAAAAAAAAAAAEAAAAAAQAAAAAAAAAAAAAAAAAAAAABAQAAAQAAAAAAAAABAAAAAQEAAAAAAAAAAQEAAAAAAAAAAAABAAABAAAAAQEAAAAAAAAAAAABAAAAAAEBAAAAAAABAAABAAAAAAAAAAAAAAAAAAAAAAAAAAAAAAEAAQAAAAAAAAEAAAAAAAABAQAAAAAAAQAAAAAAAAABAAAAAAABAAAAAAAAAAAAAAAAAAABAAAAAAAAAAEAAAAAAAAAAAAAAQAAAAEAAAAAAAAAAAAAAAEAAAAAAQAAAAEAAAAAAAAAAAAAAAAAAAAAAQAAAQAAAAABAAABAAAAAQAAAAEAAAAAAAAAAAAAAQEAAAABAAAAAAAAAAAAAAAAAQAAAAAAAAAAAAAAAAAAAAAAAAAAAAABAAAAAAAAAAAAAAAAAAAAAAAAAAAAAAEAAAEAAAABAQAAAAAAAAABAAAAAAABAAEAAAAAAAAAAAAAAAAAAAABAAAAAAAAAAAAAQAAAAABAAAAAAAAAAAAAQAAAQAAAAAAAAAAAAAAAAAAAAAAAQEAAQAAAAAAAAAAAAAAAAABAAAAAAEAAAEAAAAAAQEAAQAAAAAAAAAAAQAAAAABAAAAAQAAAAAAAAAAAAAAAAAAAAEAAAAAAAEAAAAAAQAAAAAAAAAAAAAAAAAAAAAAAAAAAAAAAAAAAQAAAAAAAAEAAAAAAAABAAEAAAAAAAAAAAAAAAAAAAAAAAAAAAEAAAAAAAAAAQAAAAAAAAAAAAAAAQAAAAABAAEAAQEBAAAAAQAAAAEAAQAAAQAAAQABAAAAAAAAAAAAAAAAAAABAAEAAAABAAAAAAAAAAAAAAAAAAAAAAABAAAAAAAAAAAAAAAAAAABAAABAAAAAAAAAAAAAAAAAAAAAAEAAAAAAAABAQAAAQAAAAAAAAAAAAAAAAAAAAAAAAEAAAAAAAAAAAAAAAAAAAAAAQAAAAAAAAAAAAAAAAEAAAAAAAAAAAABAAAAAAAAAAAAAAEAAAAAAQAAAAAAAQAAAAAAAAAAAAAAAAAAAAAAAAEAAAAAAQAAAAAAAQAAAQAAAAAAAAABAQAAAAAAAAAAAAAAAAAAAAAAAAAAAAABAAAAAAAAAAEAAAABAAAAAAEAAAAAAAAAAQAAAAAAAAAAAAABAAABAAABAAAAAAAAAAABAAAAAAAAAAAAAAAAAAAAAQABAAAAAAAAAAAAAAEAAAAAAAAAAQAAAAAAAAAAAAAAAAABAAEBAAAAAAEAAAAAAAAAAAAAAAEAAAAAAAAAAAABAAAAAAABAAAAAAAAAAAAAAAAAAAAAAAAAAAAAAABAAAAAAAAAQAAAAAAAAAAAAABAAAAAQAAAAABAAAAAAAAAAABAAEAAAAAAAAAAAAAAAAAAAAAAAAAAAAAAAAAAAEBAAAAAAAAAQAAAAEBAAEAAAAAAAABAAABAAAAAAEBAAABAQAAAAAAAAAAAAAAAAABAAABAAAAAAAAAAAAAAAAAQAAAAAAAAABAAEAAAAAAAAAAAABAAAAAAAAAAAAAAABAAAAAAEAAAABAAABAQAAAAEBAAAAAAAAAQAAAQAAAAAAAAAAAAAAAAAAAAAAAQAAAAAAAAAAAQAAAAEAAAAAAAABAAAAAQAAAAAAAAAAAAAAAAAAAAEAAAEAAQAAAAEAAAABAAAAAQABAAABAAAAAAAAAAAAAAAAAQAAAAAAAAAAAAAAAAAAAAAAAAABAAEAAAAAAAEAAAAAAAAAAAAAAAAAAQAAAAAAAQAAAAAAAAABAAAAAAEAAAAAAAAAAQAAAAAAAAAAAAAAAAAAAAAAAAAAAAEAAAABAAAAAAAAAAAAAAAAAAEBAAAAAAAAAAAAAAAAAQAAAAABAAAAAAAAAAAAAAAAAAAAAAAAAAAAAAAAAAABAAAAAAAAAAAAAAAAAAAAAAEBAAAAAAAAAQEAAAAAAAAAAAEBAAAAAAAAAAAAAAAAAAAAAAAAAAAAAAAAAAAAAAAAAAAAAAAAAAEAAAAAAAAAAAABAAAAAAAAAQAAAAAAAAAAAQABAAEAAAAAAAAAAQEAAAAAAAAAAAAAAQAAAAEBAAAAAAEAAAEAAAEAAQAAAAAAAAAAAQAAAAAAAAAAAQAAAAAAAAAAAAAAAAAAAAABAAAAAAAAAAAAAAAAAAEAAAAAAAABAAAAAAAAAAABAAEAAAAAAQEBAAAAAAAAAAAAAAAAAAAAAAAAAAAAAAAAAAAAAAAAAAAAAAAAAAAAAAAAAAEBAAAAAAAAAAABAQAAAAAAAAAAAAABAAAAAAAAAQEAAQAAAQAAAAAAAAAAAAAAAAAAAAEAAAAAAAABAAAAAAAAAAAAAQAAAQAAAAAAAAAAAAEAAQAAAAAAAAAAAAAAAAAAAAEBAAAAAAEAAAAAAAEAAAEAAAABAAAAAQABAQAAAAEAAAAAAAAAAAAAAAAAAQAAAQEAAAAAAAAAAQAAAAEBAAAAAAAAAAAAAAAAAAAAAAAAAAABAAAAAAABAQEAAAABAAAAAQAAAAAAAAEAAAAAAAAAAAEBAAAAAAAAAQAAAAAAAAAAAAAAAAAAAAABAAAAAAAAAAAAAAEAAQAAAAEAAAAAAAABAQAAAAAAAAAAAAAAAAABAAAAAAABAAAAAAAAAAAAAAAAAQEAAQEAAAAAAAAAAAEAAAAAAAAAAQAAAAAAAAAAAQAAAAAAAAAAAAAAAAEAAQEBAAAAAQEAAAABAAAAAAAAAAEAAAAAAAAAAAAAAAAAAQEAAAAAAAEAAAEAAAAAAAAAAAAAAAAAAAAAAAAAAAAAAAAAAAAAAAABAAABAAAAAAAAAAAAAAAAAAAAAAABAAEAAAAAAAAAAQAAAAEAAAAAAQEAAAEAAAEAAAEBAAABAQEAAAAAAAAAAQAAAAEAAAAAAAAAAAEAAAAAAAAAAAAAAAAAAAAAAAAAAAAAAAAAAQAAAAAAAAAAAAAAAAABAAAAAAAAAQAAAAAAAAAAAAAAAAEAAAEAAAEAAAAAAAAAAAAAAAAAAAABAAAAAAABAAAAAAABAAAAAAABAAEBAAABAAAAAAAAAAAAAAABAAAAAAAAAQABAAABAAEAAAEAAAAAAAAAAAEAAAAAAAABAAABAAAAAAEBAAABAAAAAAEAAAAAAAEAAAABAAAAAAAAAAAAAQAAAAAAAAABAAAAAAAAAAAAAAAAAAAAAAAAAAAAAAAAAAABAAAAAAAAAAAAAAABAQAAAAAAAAAAAAAAAAAAAAEBAAAAAAAAAAEAAAAAAAAAAQEBAAAAAQAAAQAAAAEAAAAAAAAAAAAAAAAAAAAAAAAAAAAAAAAAAAEBAAAAAAEAAAAAAAEAAAABAAAAAAABAAEAAAABAAAAAAAAAQAAAAAAAAAAAAEBAAAAAAABAQAAAAAAAAAAAQAAAAAAAAAAAAAAAAAAAAAAAAAAAAAAAAAAAAAAAAAAAAABAAEAAAAAAAAAAAAAAQAAAAAAAAABAAABAAEAAAAAAQAAAAAAAQAAAAEAAAAAAAAAAAAAAAAAAQEAAAAAAAEAAQABAAAAAAAAAAAAAAAAAAAAAAAAAAABAAABAQAAAAEAAAAAAAAAAAEAAAAAAQAAAAAAAAABAAAAAAAAAQEAAQABAAAAAAEAAAAAAAAAAAAAAAABAAABAAAAAAAAAAAAAAAAAAEAAAEAAAAAAAEAAAEAAAABAAAAAAAAAAAAAAAAAAAAAAAAAAEAAAAAAQAAAAAAAAAAAAAAAAAAAAABAAAAAQAAAQAAAAABAAAAAAAAAAAAAAAAAAAAAAAAAAABAAAAAAAAAAEBAAABAAAAAAAA",
          "dtype": "i1"
         },
         "x0": " ",
         "xaxis": "x",
         "y": {
          "bdata": "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",
          "dtype": "f8"
         },
         "y0": " ",
         "yaxis": "y"
        }
       ],
       "layout": {
        "boxmode": "group",
        "legend": {
         "tracegroupgap": 0
        },
        "template": {
         "data": {
          "bar": [
           {
            "error_x": {
             "color": "#2a3f5f"
            },
            "error_y": {
             "color": "#2a3f5f"
            },
            "marker": {
             "line": {
              "color": "#E5ECF6",
              "width": 0.5
             },
             "pattern": {
              "fillmode": "overlay",
              "size": 10,
              "solidity": 0.2
             }
            },
            "type": "bar"
           }
          ],
          "barpolar": [
           {
            "marker": {
             "line": {
              "color": "#E5ECF6",
              "width": 0.5
             },
             "pattern": {
              "fillmode": "overlay",
              "size": 10,
              "solidity": 0.2
             }
            },
            "type": "barpolar"
           }
          ],
          "carpet": [
           {
            "aaxis": {
             "endlinecolor": "#2a3f5f",
             "gridcolor": "white",
             "linecolor": "white",
             "minorgridcolor": "white",
             "startlinecolor": "#2a3f5f"
            },
            "baxis": {
             "endlinecolor": "#2a3f5f",
             "gridcolor": "white",
             "linecolor": "white",
             "minorgridcolor": "white",
             "startlinecolor": "#2a3f5f"
            },
            "type": "carpet"
           }
          ],
          "choropleth": [
           {
            "colorbar": {
             "outlinewidth": 0,
             "ticks": ""
            },
            "type": "choropleth"
           }
          ],
          "contour": [
           {
            "colorbar": {
             "outlinewidth": 0,
             "ticks": ""
            },
            "colorscale": [
             [
              0,
              "#0d0887"
             ],
             [
              0.1111111111111111,
              "#46039f"
             ],
             [
              0.2222222222222222,
              "#7201a8"
             ],
             [
              0.3333333333333333,
              "#9c179e"
             ],
             [
              0.4444444444444444,
              "#bd3786"
             ],
             [
              0.5555555555555556,
              "#d8576b"
             ],
             [
              0.6666666666666666,
              "#ed7953"
             ],
             [
              0.7777777777777778,
              "#fb9f3a"
             ],
             [
              0.8888888888888888,
              "#fdca26"
             ],
             [
              1,
              "#f0f921"
             ]
            ],
            "type": "contour"
           }
          ],
          "contourcarpet": [
           {
            "colorbar": {
             "outlinewidth": 0,
             "ticks": ""
            },
            "type": "contourcarpet"
           }
          ],
          "heatmap": [
           {
            "colorbar": {
             "outlinewidth": 0,
             "ticks": ""
            },
            "colorscale": [
             [
              0,
              "#0d0887"
             ],
             [
              0.1111111111111111,
              "#46039f"
             ],
             [
              0.2222222222222222,
              "#7201a8"
             ],
             [
              0.3333333333333333,
              "#9c179e"
             ],
             [
              0.4444444444444444,
              "#bd3786"
             ],
             [
              0.5555555555555556,
              "#d8576b"
             ],
             [
              0.6666666666666666,
              "#ed7953"
             ],
             [
              0.7777777777777778,
              "#fb9f3a"
             ],
             [
              0.8888888888888888,
              "#fdca26"
             ],
             [
              1,
              "#f0f921"
             ]
            ],
            "type": "heatmap"
           }
          ],
          "histogram": [
           {
            "marker": {
             "pattern": {
              "fillmode": "overlay",
              "size": 10,
              "solidity": 0.2
             }
            },
            "type": "histogram"
           }
          ],
          "histogram2d": [
           {
            "colorbar": {
             "outlinewidth": 0,
             "ticks": ""
            },
            "colorscale": [
             [
              0,
              "#0d0887"
             ],
             [
              0.1111111111111111,
              "#46039f"
             ],
             [
              0.2222222222222222,
              "#7201a8"
             ],
             [
              0.3333333333333333,
              "#9c179e"
             ],
             [
              0.4444444444444444,
              "#bd3786"
             ],
             [
              0.5555555555555556,
              "#d8576b"
             ],
             [
              0.6666666666666666,
              "#ed7953"
             ],
             [
              0.7777777777777778,
              "#fb9f3a"
             ],
             [
              0.8888888888888888,
              "#fdca26"
             ],
             [
              1,
              "#f0f921"
             ]
            ],
            "type": "histogram2d"
           }
          ],
          "histogram2dcontour": [
           {
            "colorbar": {
             "outlinewidth": 0,
             "ticks": ""
            },
            "colorscale": [
             [
              0,
              "#0d0887"
             ],
             [
              0.1111111111111111,
              "#46039f"
             ],
             [
              0.2222222222222222,
              "#7201a8"
             ],
             [
              0.3333333333333333,
              "#9c179e"
             ],
             [
              0.4444444444444444,
              "#bd3786"
             ],
             [
              0.5555555555555556,
              "#d8576b"
             ],
             [
              0.6666666666666666,
              "#ed7953"
             ],
             [
              0.7777777777777778,
              "#fb9f3a"
             ],
             [
              0.8888888888888888,
              "#fdca26"
             ],
             [
              1,
              "#f0f921"
             ]
            ],
            "type": "histogram2dcontour"
           }
          ],
          "mesh3d": [
           {
            "colorbar": {
             "outlinewidth": 0,
             "ticks": ""
            },
            "type": "mesh3d"
           }
          ],
          "parcoords": [
           {
            "line": {
             "colorbar": {
              "outlinewidth": 0,
              "ticks": ""
             }
            },
            "type": "parcoords"
           }
          ],
          "pie": [
           {
            "automargin": true,
            "type": "pie"
           }
          ],
          "scatter": [
           {
            "fillpattern": {
             "fillmode": "overlay",
             "size": 10,
             "solidity": 0.2
            },
            "type": "scatter"
           }
          ],
          "scatter3d": [
           {
            "line": {
             "colorbar": {
              "outlinewidth": 0,
              "ticks": ""
             }
            },
            "marker": {
             "colorbar": {
              "outlinewidth": 0,
              "ticks": ""
             }
            },
            "type": "scatter3d"
           }
          ],
          "scattercarpet": [
           {
            "marker": {
             "colorbar": {
              "outlinewidth": 0,
              "ticks": ""
             }
            },
            "type": "scattercarpet"
           }
          ],
          "scattergeo": [
           {
            "marker": {
             "colorbar": {
              "outlinewidth": 0,
              "ticks": ""
             }
            },
            "type": "scattergeo"
           }
          ],
          "scattergl": [
           {
            "marker": {
             "colorbar": {
              "outlinewidth": 0,
              "ticks": ""
             }
            },
            "type": "scattergl"
           }
          ],
          "scattermap": [
           {
            "marker": {
             "colorbar": {
              "outlinewidth": 0,
              "ticks": ""
             }
            },
            "type": "scattermap"
           }
          ],
          "scattermapbox": [
           {
            "marker": {
             "colorbar": {
              "outlinewidth": 0,
              "ticks": ""
             }
            },
            "type": "scattermapbox"
           }
          ],
          "scatterpolar": [
           {
            "marker": {
             "colorbar": {
              "outlinewidth": 0,
              "ticks": ""
             }
            },
            "type": "scatterpolar"
           }
          ],
          "scatterpolargl": [
           {
            "marker": {
             "colorbar": {
              "outlinewidth": 0,
              "ticks": ""
             }
            },
            "type": "scatterpolargl"
           }
          ],
          "scatterternary": [
           {
            "marker": {
             "colorbar": {
              "outlinewidth": 0,
              "ticks": ""
             }
            },
            "type": "scatterternary"
           }
          ],
          "surface": [
           {
            "colorbar": {
             "outlinewidth": 0,
             "ticks": ""
            },
            "colorscale": [
             [
              0,
              "#0d0887"
             ],
             [
              0.1111111111111111,
              "#46039f"
             ],
             [
              0.2222222222222222,
              "#7201a8"
             ],
             [
              0.3333333333333333,
              "#9c179e"
             ],
             [
              0.4444444444444444,
              "#bd3786"
             ],
             [
              0.5555555555555556,
              "#d8576b"
             ],
             [
              0.6666666666666666,
              "#ed7953"
             ],
             [
              0.7777777777777778,
              "#fb9f3a"
             ],
             [
              0.8888888888888888,
              "#fdca26"
             ],
             [
              1,
              "#f0f921"
             ]
            ],
            "type": "surface"
           }
          ],
          "table": [
           {
            "cells": {
             "fill": {
              "color": "#EBF0F8"
             },
             "line": {
              "color": "white"
             }
            },
            "header": {
             "fill": {
              "color": "#C8D4E3"
             },
             "line": {
              "color": "white"
             }
            },
            "type": "table"
           }
          ]
         },
         "layout": {
          "annotationdefaults": {
           "arrowcolor": "#2a3f5f",
           "arrowhead": 0,
           "arrowwidth": 1
          },
          "autotypenumbers": "strict",
          "coloraxis": {
           "colorbar": {
            "outlinewidth": 0,
            "ticks": ""
           }
          },
          "colorscale": {
           "diverging": [
            [
             0,
             "#8e0152"
            ],
            [
             0.1,
             "#c51b7d"
            ],
            [
             0.2,
             "#de77ae"
            ],
            [
             0.3,
             "#f1b6da"
            ],
            [
             0.4,
             "#fde0ef"
            ],
            [
             0.5,
             "#f7f7f7"
            ],
            [
             0.6,
             "#e6f5d0"
            ],
            [
             0.7,
             "#b8e186"
            ],
            [
             0.8,
             "#7fbc41"
            ],
            [
             0.9,
             "#4d9221"
            ],
            [
             1,
             "#276419"
            ]
           ],
           "sequential": [
            [
             0,
             "#0d0887"
            ],
            [
             0.1111111111111111,
             "#46039f"
            ],
            [
             0.2222222222222222,
             "#7201a8"
            ],
            [
             0.3333333333333333,
             "#9c179e"
            ],
            [
             0.4444444444444444,
             "#bd3786"
            ],
            [
             0.5555555555555556,
             "#d8576b"
            ],
            [
             0.6666666666666666,
             "#ed7953"
            ],
            [
             0.7777777777777778,
             "#fb9f3a"
            ],
            [
             0.8888888888888888,
             "#fdca26"
            ],
            [
             1,
             "#f0f921"
            ]
           ],
           "sequentialminus": [
            [
             0,
             "#0d0887"
            ],
            [
             0.1111111111111111,
             "#46039f"
            ],
            [
             0.2222222222222222,
             "#7201a8"
            ],
            [
             0.3333333333333333,
             "#9c179e"
            ],
            [
             0.4444444444444444,
             "#bd3786"
            ],
            [
             0.5555555555555556,
             "#d8576b"
            ],
            [
             0.6666666666666666,
             "#ed7953"
            ],
            [
             0.7777777777777778,
             "#fb9f3a"
            ],
            [
             0.8888888888888888,
             "#fdca26"
            ],
            [
             1,
             "#f0f921"
            ]
           ]
          },
          "colorway": [
           "#636efa",
           "#EF553B",
           "#00cc96",
           "#ab63fa",
           "#FFA15A",
           "#19d3f3",
           "#FF6692",
           "#B6E880",
           "#FF97FF",
           "#FECB52"
          ],
          "font": {
           "color": "#2a3f5f"
          },
          "geo": {
           "bgcolor": "white",
           "lakecolor": "white",
           "landcolor": "#E5ECF6",
           "showlakes": true,
           "showland": true,
           "subunitcolor": "white"
          },
          "hoverlabel": {
           "align": "left"
          },
          "hovermode": "closest",
          "mapbox": {
           "style": "light"
          },
          "paper_bgcolor": "white",
          "plot_bgcolor": "#E5ECF6",
          "polar": {
           "angularaxis": {
            "gridcolor": "white",
            "linecolor": "white",
            "ticks": ""
           },
           "bgcolor": "#E5ECF6",
           "radialaxis": {
            "gridcolor": "white",
            "linecolor": "white",
            "ticks": ""
           }
          },
          "scene": {
           "xaxis": {
            "backgroundcolor": "#E5ECF6",
            "gridcolor": "white",
            "gridwidth": 2,
            "linecolor": "white",
            "showbackground": true,
            "ticks": "",
            "zerolinecolor": "white"
           },
           "yaxis": {
            "backgroundcolor": "#E5ECF6",
            "gridcolor": "white",
            "gridwidth": 2,
            "linecolor": "white",
            "showbackground": true,
            "ticks": "",
            "zerolinecolor": "white"
           },
           "zaxis": {
            "backgroundcolor": "#E5ECF6",
            "gridcolor": "white",
            "gridwidth": 2,
            "linecolor": "white",
            "showbackground": true,
            "ticks": "",
            "zerolinecolor": "white"
           }
          },
          "shapedefaults": {
           "line": {
            "color": "#2a3f5f"
           }
          },
          "ternary": {
           "aaxis": {
            "gridcolor": "white",
            "linecolor": "white",
            "ticks": ""
           },
           "baxis": {
            "gridcolor": "white",
            "linecolor": "white",
            "ticks": ""
           },
           "bgcolor": "#E5ECF6",
           "caxis": {
            "gridcolor": "white",
            "linecolor": "white",
            "ticks": ""
           }
          },
          "title": {
           "x": 0.05
          },
          "xaxis": {
           "automargin": true,
           "gridcolor": "white",
           "linecolor": "white",
           "ticks": "",
           "title": {
            "standoff": 15
           },
           "zerolinecolor": "white",
           "zerolinewidth": 2
          },
          "yaxis": {
           "automargin": true,
           "gridcolor": "white",
           "linecolor": "white",
           "ticks": "",
           "title": {
            "standoff": 15
           },
           "zerolinecolor": "white",
           "zerolinewidth": 2
          }
         }
        },
        "title": {
         "text": "Traffic Density During Peak vs Non-Peak Hours"
        },
        "xaxis": {
         "anchor": "y",
         "domain": [
          0,
          1
         ],
         "title": {
          "text": "Is Peak Hour"
         }
        },
        "yaxis": {
         "anchor": "x",
         "domain": [
          0,
          1
         ],
         "title": {
          "text": "Traffic Density"
         }
        }
       }
      }
     },
     "metadata": {},
     "output_type": "display_data"
    }
   ],
   "source": [
    "fig5 = px.box(df, x=\"Is Peak Hour\", y=\"Traffic Density\",\n",
    "              title=\"Traffic Density During Peak vs Non-Peak Hours\")\n",
    "fig5.show()"
   ]
  },
  {
   "cell_type": "code",
   "execution_count": null,
   "id": "5714bfaa",
   "metadata": {},
   "outputs": [],
   "source": []
  }
 ],
 "metadata": {
  "kernelspec": {
   "display_name": "base",
   "language": "python",
   "name": "python3"
  },
  "language_info": {
   "codemirror_mode": {
    "name": "ipython",
    "version": 3
   },
   "file_extension": ".py",
   "mimetype": "text/x-python",
   "name": "python",
   "nbconvert_exporter": "python",
   "pygments_lexer": "ipython3",
   "version": "3.12.3"
  }
 },
 "nbformat": 4,
 "nbformat_minor": 5
}
